{
 "cells": [
  {
   "cell_type": "markdown",
   "metadata": {},
   "source": [
    "# Graph Search"
   ]
  },
  {
   "cell_type": "markdown",
   "metadata": {},
   "source": [
    "---\n",
    "## 1. Overview"
   ]
  },
  {
   "cell_type": "markdown",
   "metadata": {},
   "source": [
    "## Motivations\n",
    "- check if a network is connected.\n",
    "- shortest path: driving direction.\n",
    "- fomulate a plan.\n",
    "- directed graph\n",
    "\n",
    "> 위와 같은 application을 위해서, 그래프 탐색 알고리즘은 가장 기본적으로 알아야될 알고리즘임."
   ]
  },
  {
   "cell_type": "markdown",
   "metadata": {},
   "source": [
    "## Generic Graph Search\n",
    "### goals\n",
    "1. find everything findable from a given start vertex.\n",
    "    - 시작점에서 갈 수 있는 모든 vertex\n",
    "\n",
    "2. Don't Explore anything time\n",
    "    - goal $O(m+n)$, linear of graph size.\n",
    "    - m, n은 각각 edge와 vertex의 수\n",
    "\n",
    "### Generic Algorithm (given graph $G$, vertex $S$)\n",
    "- initially $S$ explored, all other vertices unexplored    \n",
    "- while possible:\n",
    "    - choose an edge `(u, v)` with `u` explored and `v` unexplored.  (if not halt) -> reached.\n",
    "    - mark `v` explored."
   ]
  },
  {
   "cell_type": "markdown",
   "metadata": {},
   "source": [
    "## BFS vs DFS\n",
    "- how to choose among the possibly many frontier edges"
   ]
  },
  {
   "cell_type": "markdown",
   "metadata": {},
   "source": [
    "**Breadth-First Search (BFS)**\n",
    "- explore nodes in \"layers\"\n",
    "- can compute shortest paths\n",
    "- can compute connected components of an **undirected graph**\n",
    "- $O(m+n)$ times using a queue (FIFO)"
   ]
  },
  {
   "cell_type": "markdown",
   "metadata": {},
   "source": [
    "**Deep-first Search (DFS)**\n",
    "- explore aggressively like a maze, backtrack only when necessary\n",
    "- compute topological ordering of directed acyclic graph\n",
    "- compute connected components in **directed graph**\n",
    "- $O(m+n)$ times using a stack (LIFO)"
   ]
  },
  {
   "cell_type": "markdown",
   "metadata": {},
   "source": [
    "---\n",
    "## 2. Basics of BFS"
   ]
  },
  {
   "cell_type": "markdown",
   "metadata": {},
   "source": [
    "### Overview and Example\n",
    "- explore nodes in \"layers\""
   ]
  },
  {
   "cell_type": "markdown",
   "metadata": {},
   "source": [
    "### BFS (graph $G$, start vertex $S$)\n",
    "- explore nodes in \"layers\"\n",
    "- mark $S$ as explored\n",
    "- let `Q` queue data structure (FIFO), initialized with S.\n",
    "    - python은 deque\n",
    "- while Q!=empty:\n",
    "    - remove first node of Q call"
   ]
  },
  {
   "cell_type": "code",
   "execution_count": null,
   "metadata": {},
   "outputs": [],
   "source": []
  },
  {
   "cell_type": "code",
   "execution_count": null,
   "metadata": {},
   "outputs": [],
   "source": []
  },
  {
   "cell_type": "markdown",
   "metadata": {},
   "source": [
    "## 2. Basics of BFS"
   ]
  },
  {
   "cell_type": "code",
   "execution_count": null,
   "metadata": {},
   "outputs": [],
   "source": []
  },
  {
   "cell_type": "markdown",
   "metadata": {},
   "source": [
    "# Motivations"
   ]
  },
  {
   "cell_type": "markdown",
   "metadata": {},
   "source": []
  }
 ],
 "metadata": {
  "kernelspec": {
   "display_name": "Python 3",
   "language": "python",
   "name": "python3"
  },
  "language_info": {
   "codemirror_mode": {
    "name": "ipython",
    "version": 3
   },
   "file_extension": ".py",
   "mimetype": "text/x-python",
   "name": "python",
   "nbconvert_exporter": "python",
   "pygments_lexer": "ipython3",
   "version": "3.7.5"
  }
 },
 "nbformat": 4,
 "nbformat_minor": 4
}
