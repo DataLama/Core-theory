{
 "cells": [
  {
   "cell_type": "markdown",
   "metadata": {},
   "source": [
    "# 탐색을 위한 자료구조 기초\n",
    "---"
   ]
  },
  {
   "cell_type": "markdown",
   "metadata": {},
   "source": [
    "- **탐색(Search)**이란 많은 데이터 중에서 원하는 데이터를 찾는 과정.\n",
    "    - 사실상 검색임.\n",
    "- 프로그래밍에서는 그래프, 트리 등의 자료구조 안에서 탐색하는 문제를 자주 다룬다.\n",
    "- 대표적인 탐색 알고리즘은 DFS와 BFS가 있음.\n",
    "- 이들을 제대로 이해하기 위해서는 스택, 큐, 재귀에 대한 이해가 필요함.\n",
    "- 스택과 큐는 다음 두 핵심적인 함수로 구성됨.\n",
    "    - 삽입 (Push, Update)\n",
    "    - 삭제 (Pop, Delete)"
   ]
  },
  {
   "cell_type": "markdown",
   "metadata": {},
   "source": [
    "### 스택(Stack)\n",
    "- FILO, LIFO\n",
    "- 파이썬에서 스택은 리스트로 구현할 수 있다."
   ]
  },
  {
   "cell_type": "code",
   "execution_count": 4,
   "metadata": {},
   "outputs": [
    {
     "name": "stdout",
     "output_type": "stream",
     "text": [
      "[5, 2, 3, 1]\n",
      "[1, 3, 2, 5]\n"
     ]
    }
   ],
   "source": [
    "stack = []\n",
    "\n",
    "stack.append(5)\n",
    "stack.append(2)\n",
    "stack.append(3)\n",
    "stack.append(7) # 상수시간\n",
    "stack.pop() # 상수시간\n",
    "stack.append(1)\n",
    "stack.append(4)\n",
    "stack.pop()\n",
    "\n",
    "print(stack) # 최하단 원소부터 출력\n",
    "print(stack[::-1]) # 최상단 원소부터 출력"
   ]
  },
  {
   "cell_type": "markdown",
   "metadata": {},
   "source": [
    "### 큐(Queue)\n",
    "- FIFO"
   ]
  },
  {
   "cell_type": "code",
   "execution_count": 1,
   "metadata": {},
   "outputs": [
    {
     "name": "stdout",
     "output_type": "stream",
     "text": [
      "deque([3, 7, 1, 4])\n",
      "deque([4, 1, 7, 3])\n"
     ]
    }
   ],
   "source": [
    "from collections import deque\n",
    "\n",
    "queue = deque()\n",
    "\n",
    "queue.append(5)\n",
    "queue.append(2)\n",
    "queue.append(3)\n",
    "queue.append(7) # 상수시간\n",
    "queue.popleft() # queue / 상수시간\n",
    "# queue.pop() -> 이건 stack 구현임ㅋㅋㅋ\n",
    "queue.append(1)\n",
    "queue.append(4) \n",
    "queue.popleft()\n",
    "\n",
    "print(queue)\n",
    "queue.reverse()\n",
    "print(queue)"
   ]
  },
  {
   "cell_type": "code",
   "execution_count": 14,
   "metadata": {},
   "outputs": [
    {
     "data": {
      "text/plain": [
       "[4, 1, 7, 3]"
      ]
     },
     "execution_count": 14,
     "metadata": {},
     "output_type": "execute_result"
    }
   ],
   "source": [
    "list(queue)"
   ]
  },
  {
   "cell_type": "markdown",
   "metadata": {},
   "source": [
    "### 재귀함수\n",
    "- 재귀 함수는 함수 내에서 자기 자신을 다시 호출하는 함수다.\n",
    "- 재귀 함수는 반드시 종료 조건을 명시해야한다.\n",
    "- 컴퓨터 내부에서 재귀함수의 수행은 스택 자료 구조를 이용한다.\n",
    "    - 함수를 계속 호출했을 때 가장 마지막에 호출한 함수가 먼저 수행을 끝내야 그 앞의 함수가 호출이 종료되기 때문.\n",
    "    - 컴퓨터 구조 측면에서 보면, 연속해서 호출되는 함수는 메인 메모리 스택 공간에 적재되므로 재귀 함수는 스택구조와 같다."
   ]
  },
  {
   "cell_type": "code",
   "execution_count": 21,
   "metadata": {},
   "outputs": [],
   "source": [
    "def recursive_function(i):\n",
    "    if i == 10:\n",
    "        print(f\"{i}번째 재귀함수를 종료합니다.\")\n",
    "        return\n",
    "    print(f\"{i}번째 재귀 함수에서 {i+1}번째 재귀 함수를 호출합니다.\")\n",
    "    recursive_function(i + 1)\n",
    "    print(f\"{i}번째 재귀함수를 종료합니다.\")"
   ]
  },
  {
   "cell_type": "code",
   "execution_count": 22,
   "metadata": {},
   "outputs": [
    {
     "name": "stdout",
     "output_type": "stream",
     "text": [
      "1번째 재귀 함수에서 2번째 재귀 함수를 호출합니다.\n",
      "2번째 재귀 함수에서 3번째 재귀 함수를 호출합니다.\n",
      "3번째 재귀 함수에서 4번째 재귀 함수를 호출합니다.\n",
      "4번째 재귀 함수에서 5번째 재귀 함수를 호출합니다.\n",
      "5번째 재귀 함수에서 6번째 재귀 함수를 호출합니다.\n",
      "6번째 재귀 함수에서 7번째 재귀 함수를 호출합니다.\n",
      "7번째 재귀 함수에서 8번째 재귀 함수를 호출합니다.\n",
      "8번째 재귀 함수에서 9번째 재귀 함수를 호출합니다.\n",
      "9번째 재귀 함수에서 10번째 재귀 함수를 호출합니다.\n",
      "10번째 재귀함수를 종료합니다.\n",
      "9번째 재귀함수를 종료합니다.\n",
      "8번째 재귀함수를 종료합니다.\n",
      "7번째 재귀함수를 종료합니다.\n",
      "6번째 재귀함수를 종료합니다.\n",
      "5번째 재귀함수를 종료합니다.\n",
      "4번째 재귀함수를 종료합니다.\n",
      "3번째 재귀함수를 종료합니다.\n",
      "2번째 재귀함수를 종료합니다.\n",
      "1번째 재귀함수를 종료합니다.\n"
     ]
    }
   ],
   "source": [
    "recursive_function(1)"
   ]
  },
  {
   "cell_type": "markdown",
   "metadata": {},
   "source": [
    "- factorial 구현"
   ]
  },
  {
   "cell_type": "code",
   "execution_count": 37,
   "metadata": {},
   "outputs": [],
   "source": [
    "def factorial_iter(n):\n",
    "    result = 1\n",
    "    for i in range(1, n+1):\n",
    "        result *= i\n",
    "    return result"
   ]
  },
  {
   "cell_type": "code",
   "execution_count": 38,
   "metadata": {},
   "outputs": [],
   "source": [
    "def factorial_recursive(n):\n",
    "    if n <=1:\n",
    "        return 1\n",
    "    return n * factorial_recursive(n-1)"
   ]
  },
  {
   "cell_type": "code",
   "execution_count": 39,
   "metadata": {},
   "outputs": [
    {
     "name": "stdout",
     "output_type": "stream",
     "text": [
      "242 µs ± 3.68 µs per loop (mean ± std. dev. of 7 runs, 1000 loops each)\n"
     ]
    }
   ],
   "source": [
    "%%timeit\n",
    "factorial_iter(1000)"
   ]
  },
  {
   "cell_type": "code",
   "execution_count": 40,
   "metadata": {},
   "outputs": [
    {
     "name": "stdout",
     "output_type": "stream",
     "text": [
      "354 µs ± 4.79 µs per loop (mean ± std. dev. of 7 runs, 1000 loops each)\n"
     ]
    }
   ],
   "source": [
    "%%timeit\n",
    "factorial_recursive(1000)"
   ]
  },
  {
   "cell_type": "code",
   "execution_count": 41,
   "metadata": {},
   "outputs": [
    {
     "name": "stdout",
     "output_type": "stream",
     "text": [
      "7.63 µs ± 52.3 ns per loop (mean ± std. dev. of 7 runs, 100000 loops each)\n"
     ]
    }
   ],
   "source": [
    "%%timeit\n",
    "factorial_iter(100)"
   ]
  },
  {
   "cell_type": "code",
   "execution_count": 42,
   "metadata": {},
   "outputs": [
    {
     "name": "stdout",
     "output_type": "stream",
     "text": [
      "18.3 µs ± 981 ns per loop (mean ± std. dev. of 7 runs, 100000 loops each)\n"
     ]
    }
   ],
   "source": [
    "%%timeit\n",
    "factorial_recursive(100)"
   ]
  },
  {
   "cell_type": "markdown",
   "metadata": {},
   "source": [
    "- 유클리드의 호제법을 재귀적으로 구현하기"
   ]
  },
  {
   "cell_type": "code",
   "execution_count": 47,
   "metadata": {},
   "outputs": [],
   "source": [
    "def euclid(a, b):\n",
    "    r = a % b\n",
    "    if b % r == 0:\n",
    "        return r\n",
    "    return euclid(b, r)"
   ]
  },
  {
   "cell_type": "code",
   "execution_count": 48,
   "metadata": {},
   "outputs": [
    {
     "data": {
      "text/plain": [
       "6"
      ]
     },
     "execution_count": 48,
     "metadata": {},
     "output_type": "execute_result"
    }
   ],
   "source": [
    "euclid(192, 162)"
   ]
  },
  {
   "cell_type": "markdown",
   "metadata": {},
   "source": [
    "- 재귀함수를 잘 활용하면 복잡한 알고리즘을 간결하게 작성 가능함.\n",
    "- 이론적으로 재귀함수는 반복문을 이용하여 동일한 기능을 구현 가능함. 역도 성립함.\n",
    "- 재귀함수가 반복문보다 유리한 경우도 있고, 불리한 경우도 있다.\n",
    "- 스택을 사용해야할 때, 구현상 **스택 라이브러리 대신 재귀함수**를 이용하는 경우가 많음."
   ]
  },
  {
   "cell_type": "markdown",
   "metadata": {},
   "source": [
    "### 인접리스트 vs 인접행렬"
   ]
  }
 ],
 "metadata": {
  "kernelspec": {
   "display_name": "Python 3",
   "language": "python",
   "name": "python3"
  },
  "language_info": {
   "codemirror_mode": {
    "name": "ipython",
    "version": 3
   },
   "file_extension": ".py",
   "mimetype": "text/x-python",
   "name": "python",
   "nbconvert_exporter": "python",
   "pygments_lexer": "ipython3",
   "version": "3.7.5"
  }
 },
 "nbformat": 4,
 "nbformat_minor": 4
}
