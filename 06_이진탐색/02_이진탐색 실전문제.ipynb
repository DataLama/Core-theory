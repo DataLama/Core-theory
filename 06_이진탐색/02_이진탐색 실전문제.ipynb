{
 "cells": [
  {
   "cell_type": "markdown",
   "metadata": {},
   "source": [
    "# 이진탐색 실전문제"
   ]
  },
  {
   "cell_type": "markdown",
   "metadata": {},
   "source": [
    "---"
   ]
  },
  {
   "cell_type": "markdown",
   "metadata": {},
   "source": [
    "### 부품찾기"
   ]
  },
  {
   "cell_type": "markdown",
   "metadata": {},
   "source": [
    "---"
   ]
  },
  {
   "cell_type": "markdown",
   "metadata": {},
   "source": [
    "### 떡볶이 떡 만들기\n",
    "- 파라메트릭 서치 문제\n",
    "- 최적의 h값을 구하는데 반복적인 try and error 문제 (결정 문제로 풀기)\n",
    "    - h값을 구하는데 순차적으로 판단하는 것이 아니라 이진탐색으로 구현하는 것. "
   ]
  },
  {
   "cell_type": "code",
   "execution_count": 9,
   "metadata": {},
   "outputs": [],
   "source": [
    "sample =\"\"\"4 6\n",
    "19 15 10 17\"\"\""
   ]
  },
  {
   "cell_type": "code",
   "execution_count": 10,
   "metadata": {},
   "outputs": [],
   "source": [
    "var, dduck=sample.split('\\n')\n",
    "n, m = map(int, var.split())\n",
    "dducks = map(int, dduck.split())"
   ]
  },
  {
   "cell_type": "code",
   "execution_count": 14,
   "metadata": {},
   "outputs": [],
   "source": [
    "from bisect import bisect_left\n",
    "\n",
    "def dduck_cutter(dducks, num_dduck, customer_dduck_len):\n",
    "    # 오름차순으로 떡정렬\n",
    "    dducks.sort()\n",
    "    \n",
    "    # 이진탐색을 위한 시작과 끝\n",
    "    start = 0\n",
    "    end = dducks[-1]\n",
    "    result = 0\n",
    "\n",
    "    # 이진탐색 시작 \n",
    "    while (start <= end): # 이진탐색의 종료조건 시작이 끝보다 커지면 종료..\n",
    "        my_dduck_len = 0\n",
    "        h = (start + end) // 2\n",
    "        \n",
    "        # bisect 활용해서 my_dduck_len 계산 (좀 더 효율적?)\n",
    "        h_idx = bisect_left(dducks, h)\n",
    "        long_dducks = dducks[h_idx:]\n",
    "        my_dduck_len = sum(long_dducks) - (len(long_dducks) * h)\n",
    "        \n",
    "        # 미세조정\n",
    "        # 떡의 양이 부족한 경우...\n",
    "        if my_dduck_len < customer_dduck_len:\n",
    "            end = h - 1\n",
    "        # 충분한 경우\n",
    "        else:\n",
    "            result = h # 우선 정답이니까 캐싱\n",
    "            start = h + 1\n",
    "            \n",
    "    return result"
   ]
  },
  {
   "cell_type": "code",
   "execution_count": 15,
   "metadata": {},
   "outputs": [
    {
     "name": "stdout",
     "output_type": "stream",
     "text": [
      "4 6\n",
      "[19, 15, 10, 17]\n"
     ]
    }
   ],
   "source": [
    "## 계산\n",
    "var, dduck=sample.split('\\n')\n",
    "n, m = map(int, var.split())\n",
    "dducks = list(map(int, dduck.split()))\n",
    "print(n, m)\n",
    "print(dducks[:10])"
   ]
  },
  {
   "cell_type": "code",
   "execution_count": 16,
   "metadata": {},
   "outputs": [
    {
     "data": {
      "text/plain": [
       "15"
      ]
     },
     "execution_count": 16,
     "metadata": {},
     "output_type": "execute_result"
    }
   ],
   "source": [
    "dduck_cutter(dducks, n, m)"
   ]
  }
 ],
 "metadata": {
  "kernelspec": {
   "display_name": "Python 3",
   "language": "python",
   "name": "python3"
  },
  "language_info": {
   "codemirror_mode": {
    "name": "ipython",
    "version": 3
   },
   "file_extension": ".py",
   "mimetype": "text/x-python",
   "name": "python",
   "nbconvert_exporter": "python",
   "pygments_lexer": "ipython3",
   "version": "3.7.5"
  }
 },
 "nbformat": 4,
 "nbformat_minor": 4
}
