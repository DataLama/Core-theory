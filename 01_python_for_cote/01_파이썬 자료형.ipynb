{
 "cells": [
  {
   "cell_type": "markdown",
   "metadata": {},
   "source": [
    "파이썬은 다른 언어에서 표준라이브러리가 제공하는 기능을 기본 자료형에서 제공한다."
   ]
  },
  {
   "cell_type": "markdown",
   "metadata": {},
   "source": [
    "### 1. 정수형"
   ]
  },
  {
   "cell_type": "markdown",
   "metadata": {},
   "source": [
    "### 2. 실수형"
   ]
  },
  {
   "cell_type": "markdown",
   "metadata": {},
   "source": [
    "#### 지수표현방식\n",
    "- 기본적으로 실수형 데이터로 인식함.\n",
    "- 파이썬에서 `e`나 `E`를 이용한 지수 표현 방식을 사용가능함.\n",
    "- e는 10의 거듭제곱을 표현한다.\n",
    "- **지수표현방식은 임의의 큰 수를 표현하기위해 사용됨. e.g) 무한**"
   ]
  },
  {
   "cell_type": "code",
   "execution_count": 3,
   "metadata": {},
   "outputs": [
    {
     "name": "stdout",
     "output_type": "stream",
     "text": [
      "341200.0\n",
      "34.12\n"
     ]
    }
   ],
   "source": [
    "# 양의 지수 표현\n",
    "print(3412e2)\n",
    "\n",
    "# 음의 지수 표현\n",
    "print(3412e-2)"
   ]
  },
  {
   "cell_type": "markdown",
   "metadata": {},
   "source": [
    "#### 부동소숫점 문제\n",
    "- 컴퓨터에서 부동소숫점을 정확히 표현하는데는 한계가 있음."
   ]
  },
  {
   "cell_type": "code",
   "execution_count": 4,
   "metadata": {},
   "outputs": [
    {
     "name": "stdout",
     "output_type": "stream",
     "text": [
      "0.8999999999999999\n",
      "False\n"
     ]
    }
   ],
   "source": [
    "## 실수형 데이터의 연산을 할 때, 정확한 의도 값을 얻을 수 없는 문제 발생 가능.\n",
    "x = 0.3\n",
    "y = 0.6\n",
    "z = x + y\n",
    "\n",
    "print(z)\n",
    "\n",
    "if z == 0.9:\n",
    "    print(True)\n",
    "else:\n",
    "    print(False)"
   ]
  },
  {
   "cell_type": "markdown",
   "metadata": {},
   "source": [
    "- `round()`함수를 사용하자."
   ]
  },
  {
   "cell_type": "code",
   "execution_count": 5,
   "metadata": {},
   "outputs": [
    {
     "name": "stdout",
     "output_type": "stream",
     "text": [
      "0.9\n",
      "True\n"
     ]
    }
   ],
   "source": [
    "## round에서 소숫점 특정 자릿수까지 정확도 보장 가능.\n",
    "x = 0.3\n",
    "y = 0.6\n",
    "z = x + y\n",
    "\n",
    "print(round(z, 4))\n",
    "\n",
    "if round(z, 4) == 0.9:\n",
    "    print(True)\n",
    "else:\n",
    "    print(False)"
   ]
  },
  {
   "cell_type": "markdown",
   "metadata": {},
   "source": [
    "### 3. 리스트"
   ]
  },
  {
   "cell_type": "markdown",
   "metadata": {},
   "source": [
    "#### 리스트 컴프리헨션 사용하는 경우\n",
    "- 2차원 리스트를 초기화할 때 효과적으로 사용가능함."
   ]
  },
  {
   "cell_type": "code",
   "execution_count": 8,
   "metadata": {},
   "outputs": [
    {
     "name": "stdout",
     "output_type": "stream",
     "text": [
      "[[0, 0, 0, 0, 0], [0, 0, 0, 0, 0], [0, 0, 0, 0, 0]]\n"
     ]
    }
   ],
   "source": [
    "## 행이 r이고 열이 c인 배열 초기화\n",
    "r = 3\n",
    "c = 5\n",
    "\n",
    "array = [[0]*c for _ in range(r)]\n",
    "print(array)"
   ]
  },
  {
   "cell_type": "markdown",
   "metadata": {},
   "source": [
    "> `[[0]*m] *n` 방식으로 2차원 리스트를 초기화하면 안됨. 내부 객체가 서로 참조되어서 초기화됨."
   ]
  },
  {
   "cell_type": "markdown",
   "metadata": {},
   "source": [
    "#### 리스트 메소드에 대한 시간복잡도"
   ]
  },
  {
   "cell_type": "code",
   "execution_count": 9,
   "metadata": {},
   "outputs": [],
   "source": [
    "a = [2, 4, 8]"
   ]
  },
  {
   "cell_type": "code",
   "execution_count": 10,
   "metadata": {},
   "outputs": [
    {
     "name": "stdout",
     "output_type": "stream",
     "text": [
      "[2, 4, 8, 5]\n"
     ]
    }
   ],
   "source": [
    "# O(1)\n",
    "a.append(5)\n",
    "print(a)"
   ]
  },
  {
   "cell_type": "code",
   "execution_count": 11,
   "metadata": {},
   "outputs": [
    {
     "name": "stdout",
     "output_type": "stream",
     "text": [
      "[2, 4, 5, 8]\n"
     ]
    }
   ],
   "source": [
    "# O(NlogN)\n",
    "a.sort()\n",
    "print(a)"
   ]
  },
  {
   "cell_type": "code",
   "execution_count": 12,
   "metadata": {},
   "outputs": [
    {
     "name": "stdout",
     "output_type": "stream",
     "text": [
      "[8, 5, 4, 2]\n"
     ]
    }
   ],
   "source": [
    "# O(NlogN)\n",
    "a.sort(reverse=True)\n",
    "print(a)"
   ]
  },
  {
   "cell_type": "code",
   "execution_count": 13,
   "metadata": {},
   "outputs": [
    {
     "name": "stdout",
     "output_type": "stream",
     "text": [
      "[2, 4, 5, 8]\n"
     ]
    }
   ],
   "source": [
    "# O(N)\n",
    "a.reverse()\n",
    "print(a)"
   ]
  },
  {
   "cell_type": "code",
   "execution_count": 14,
   "metadata": {},
   "outputs": [
    {
     "name": "stdout",
     "output_type": "stream",
     "text": [
      "[2, 4, 5, 4, 8]\n"
     ]
    }
   ],
   "source": [
    "# O(N)\n",
    "a.insert(3, 4)\n",
    "print(a)"
   ]
  },
  {
   "cell_type": "code",
   "execution_count": 15,
   "metadata": {},
   "outputs": [
    {
     "name": "stdout",
     "output_type": "stream",
     "text": [
      "2\n"
     ]
    }
   ],
   "source": [
    "# O(N)\n",
    "print(a.count(4))"
   ]
  },
  {
   "cell_type": "markdown",
   "metadata": {},
   "source": [
    "- remove는 특정한 값을 갖는 원소를 제거하는데, 값을 가진 원소가 **여러 개면 하나만 제거**함."
   ]
  },
  {
   "cell_type": "code",
   "execution_count": 17,
   "metadata": {},
   "outputs": [
    {
     "name": "stdout",
     "output_type": "stream",
     "text": [
      "[2, 5, 4, 8]\n"
     ]
    }
   ],
   "source": [
    "# O(N)\n",
    "a.remove(4)\n",
    "print(a)"
   ]
  },
  {
   "cell_type": "markdown",
   "metadata": {},
   "source": [
    "- 리스트에서 특정 값을 가진 원소를 모두 제거"
   ]
  },
  {
   "cell_type": "code",
   "execution_count": 18,
   "metadata": {},
   "outputs": [
    {
     "name": "stdout",
     "output_type": "stream",
     "text": [
      "[1, 2, 4]\n"
     ]
    }
   ],
   "source": [
    "a = [1, 2, 3, 4, 5, 5, 5]\n",
    "remove_set = {3, 5}\n",
    "\n",
    "# O(N)\n",
    "result = [n for n in a if n not in remove_set]\n",
    "print(result)"
   ]
  },
  {
   "cell_type": "markdown",
   "metadata": {},
   "source": [
    "### 4. 문자열\n",
    "- immutable"
   ]
  },
  {
   "cell_type": "markdown",
   "metadata": {},
   "source": [
    "### 5. 튜플\n",
    "- immutable하지만 리스트에 비해서 **공간 효율적**임."
   ]
  },
  {
   "cell_type": "markdown",
   "metadata": {},
   "source": [
    "#### 튜플을 언제 사용하면 좋을까?\n",
    "- 서로 다른 성질의 데이터를 묶어서 사용할 때\n",
    "    - 최단 경로 알고리즘에서는 (비용, 노드번호)의 형태로 튜플 자료형을 자주 사용함.\n",
    "- 데이터 나열을 해싱의 키 값으로 사용해야 할 때\n",
    "    - 튜플은 immutable이므로, 딕셔너리의 키 값으로 사용 가능함.\n",
    "- 리스트보다 메모리 효율적으로 사용해야 할 때"
   ]
  },
  {
   "cell_type": "markdown",
   "metadata": {},
   "source": [
    "### 6. 딕셔너리\n",
    "- key : value 형태로 데이터를 관리함.\n",
    "- 파이썬의 딕셔너리는 해시테이블을 사용하므로, 데이터 조회 및 수정에 있어서 상수시간에 처리할 수 있음."
   ]
  },
  {
   "cell_type": "markdown",
   "metadata": {},
   "source": [
    "### 7. 집합\n",
    "- 중복을 허용하지 않고, 순서가 없음.\n",
    "- 데이터 조회 및 수정을 상수시간에 처리할 수 있음."
   ]
  },
  {
   "cell_type": "code",
   "execution_count": 22,
   "metadata": {},
   "outputs": [
    {
     "name": "stdout",
     "output_type": "stream",
     "text": [
      "{1, 2, 3, 4, 5, 6, 7}\n",
      "{3, 4, 5}\n",
      "{1, 2}\n"
     ]
    }
   ],
   "source": [
    "## 집합 연산이 수학 연산자로 정의되어 있음.\n",
    "a = set([1,2,3,4,5])\n",
    "b = set([3,4,5,6,7])\n",
    "\n",
    "print(a | b)\n",
    "print(a & b)\n",
    "print(a - b)"
   ]
  },
  {
   "cell_type": "code",
   "execution_count": 21,
   "metadata": {},
   "outputs": [
    {
     "name": "stdout",
     "output_type": "stream",
     "text": [
      "{1, 2, 3, 4, 5, 6}\n",
      "{1, 2, 3, 4, 5, 6}\n",
      "{1, 2, 4, 5, 6}\n"
     ]
    }
   ],
   "source": [
    "## 아래와 같은 집합 연산은 상수시간이 소요됨.\n",
    "a = set([1,2,3,4,5])\n",
    "\n",
    "a.add(6)\n",
    "print(a)\n",
    "a.update([5,6])\n",
    "print(a)\n",
    "a.remove(3)\n",
    "print(a)"
   ]
  }
 ],
 "metadata": {
  "kernelspec": {
   "display_name": "Python 3",
   "language": "python",
   "name": "python3"
  },
  "language_info": {
   "codemirror_mode": {
    "name": "ipython",
    "version": 3
   },
   "file_extension": ".py",
   "mimetype": "text/x-python",
   "name": "python",
   "nbconvert_exporter": "python",
   "pygments_lexer": "ipython3",
   "version": "3.7.5"
  }
 },
 "nbformat": 4,
 "nbformat_minor": 4
}
