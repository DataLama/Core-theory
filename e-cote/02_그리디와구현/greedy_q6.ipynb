{
 "cells": [
  {
   "cell_type": "markdown",
   "metadata": {},
   "source": [
    "# 무지의 먹방라이브\n",
    "https://programmers.co.kr/learn/courses/30/lessons/42891"
   ]
  },
  {
   "cell_type": "markdown",
   "metadata": {},
   "source": [
    "### 그리디하게 접근\n",
    "- 효율성은 통과하지 못함.\n",
    "- 비효율적인 루프가 존재함.\n",
    "    - $N^2$ 알고리즘임."
   ]
  },
  {
   "cell_type": "code",
   "execution_count": null,
   "metadata": {},
   "outputs": [],
   "source": [
    "from bisect import bisect_left\n",
    "\n",
    "def jump(named_food_times, ft_min, k, i):\n",
    "    hops = list(map(lambda x: i + x*len(named_food_times), range((ft_min))))\n",
    "    i_index = bisect_left(hops, k) - 1\n",
    "    \n",
    "    # update\n",
    "    i = hops[i_index]\n",
    "    named_food_times = list(map(lambda x: (x[0], x[1]-i_index), named_food_times))\n",
    "    return named_food_times, i\n",
    "    \n",
    "\n",
    "def solution(food_times, k):\n",
    "    # 전체 시간보다 k가 크면 바로 종료\n",
    "    if sum(food_times) <= k: \n",
    "        return -1\n",
    "    \n",
    "    named_food_times = [(i+1, x) for i, x in enumerate(food_times)]\n",
    "    burnout_food_time = []\n",
    "    i=0\n",
    "    \n",
    "    while len(named_food_times) > 0:\n",
    "        next_times = []\n",
    "        _, ft_min = min(named_food_times, key=lambda x:x[1])\n",
    "        if ft_min > 2:\n",
    "            named_food_times, i = jump(named_food_times, ft_min, k, i)\n",
    "            \n",
    "        for name, ft in named_food_times:\n",
    "            i += 1\n",
    "            \n",
    "            if (k+1) == i:\n",
    "                return name\n",
    "            \n",
    "            left_food_time = ft - 1\n",
    "            if left_food_time == 0:\n",
    "                burnout_food_time.append((name, i))\n",
    "            else:\n",
    "                next_times.append((name, left_food_time))\n",
    "    \n",
    "        named_food_times = next_times"
   ]
  },
  {
   "cell_type": "markdown",
   "metadata": {},
   "source": [
    "### heapq를 활용함."
   ]
  }
 ],
 "metadata": {
  "kernelspec": {
   "display_name": "Python 3",
   "language": "python",
   "name": "python3"
  },
  "language_info": {
   "codemirror_mode": {
    "name": "ipython",
    "version": 3
   },
   "file_extension": ".py",
   "mimetype": "text/x-python",
   "name": "python",
   "nbconvert_exporter": "python",
   "pygments_lexer": "ipython3",
   "version": "3.7.5"
  }
 },
 "nbformat": 4,
 "nbformat_minor": 4
}
