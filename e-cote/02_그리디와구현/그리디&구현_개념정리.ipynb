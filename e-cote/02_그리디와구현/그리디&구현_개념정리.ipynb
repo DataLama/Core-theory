{
 "cells": [
  {
   "cell_type": "markdown",
   "metadata": {},
   "source": [
    "# 개념정리\n",
    "---"
   ]
  },
  {
   "cell_type": "markdown",
   "metadata": {},
   "source": [
    "## 그리디"
   ]
  },
  {
   "cell_type": "markdown",
   "metadata": {},
   "source": [
    "그리디 알고리즘 - 현재 상황에서 지금 당장 좋은 것만 고를 때, 최적의 해를 구할 수 있는가?"
   ]
  },
  {
   "cell_type": "markdown",
   "metadata": {},
   "source": [
    "탐욕법으로 얻은 해가 최적의 해가 되는 상황에서, 이러한 것을 추론할 수 잇어야됨."
   ]
  },
  {
   "cell_type": "markdown",
   "metadata": {},
   "source": [
    "### 1) 거스름돈 문제"
   ]
  },
  {
   "cell_type": "markdown",
   "metadata": {},
   "source": [
    "가장 큰 화ㅍ\n",
    "큰 단위가 항상 작은 단위의 배수이므로 작은 단위를 종합해서 다른 해가 나올 수 없다.\n",
    "그리디를 사용할 수 있는 최소 조건을 찾는 것을 고민."
   ]
  },
  {
   "cell_type": "markdown",
   "metadata": {},
   "source": [
    "500 100 50 10"
   ]
  },
  {
   "cell_type": "code",
   "execution_count": 4,
   "metadata": {},
   "outputs": [
    {
     "name": "stdout",
     "output_type": "stream",
     "text": [
      "1.09 µs ± 103 ns per loop (mean ± std. dev. of 7 runs, 100000 loops each)\n"
     ]
    }
   ],
   "source": [
    "%%timeit\n",
    "n = 1160\n",
    "count = 0\n",
    "\n",
    "array = [500, 100, 50, 10]\n",
    "\n",
    "for coin in array:\n",
    "    count += n // coin\n",
    "    n %= coin\n",
    "\n",
    "# print(count)"
   ]
  },
  {
   "cell_type": "markdown",
   "metadata": {},
   "source": [
    "- 동전의 총 종류에만 영향을 받는.."
   ]
  },
  {
   "cell_type": "markdown",
   "metadata": {},
   "source": [
    "---"
   ]
  },
  {
   "cell_type": "markdown",
   "metadata": {},
   "source": [
    "## 구현"
   ]
  },
  {
   "cell_type": "markdown",
   "metadata": {},
   "source": [
    "- 풀이를 떠올리는 것은 쉽지만 소스코드로 옮기기 어려움.\n",
    "    - 알고리즘은 간단하지만 코드가 지나치게 길어지는 문제\n",
    "    - 특정 소숫점까지 출력하는 문제\n",
    "    - 문자열 입력이 주어질때, 문자 단위로 파싱하는 문제\n",
    "    - 사소한 조건들이 많은 문제\n",
    "- 대표적인 유형은 완전탐색, 시뮬레이션이 있음.\n",
    "- 사용하는 언어의 기본 라이브러리에 대한 이해가 많을 수록 유리함.\n",
    "- 구현 문제의 경우, 시간/공간 복잡도에 대한 고민을 해주는 것이 좋음. (실전을 준비할 때, 양치기하면서 고민하자.)\n",
    "- API 개발 문제"
   ]
  }
 ],
 "metadata": {
  "kernelspec": {
   "display_name": "Python 3",
   "language": "python",
   "name": "python3"
  },
  "language_info": {
   "codemirror_mode": {
    "name": "ipython",
    "version": 3
   },
   "file_extension": ".py",
   "mimetype": "text/x-python",
   "name": "python",
   "nbconvert_exporter": "python",
   "pygments_lexer": "ipython3",
   "version": "3.7.5"
  }
 },
 "nbformat": 4,
 "nbformat_minor": 4
}
