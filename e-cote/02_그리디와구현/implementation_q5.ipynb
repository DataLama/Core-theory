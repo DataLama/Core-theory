{
 "cells": [
  {
   "cell_type": "markdown",
   "metadata": {},
   "source": [
    "# 뱀\n",
    "https://www.acmicpc.net/problem/3190"
   ]
  },
  {
   "cell_type": "markdown",
   "metadata": {},
   "source": [
    "### 문제 설명"
   ]
  },
  {
   "cell_type": "markdown",
   "metadata": {},
   "source": [
    "- NXN 모양의 정사각 보드위에서 게임이 진행됨.\n",
    "- 벽에 부딪히면 게임이 종료됨.\n",
    "- 초기에 뱀은 1,1에 위치하고, 길이는 1, 처음 방향은 오른쪽\n",
    "- 매 초마다 이동하는데, 다음과 같은 이동 규칙\n",
    "    - 몸길이를 늘려 머리를 다음 칸 (1 -> 2)\n",
    "    - 이동칸에 사과가 있으면\n",
    "        - 사과가 없어지고 꼬리는 움직이지 않음. (길이가 늘어남)\n",
    "    - 이동칸에 사과가 없으면\n",
    "        - 몸길이를 줄여서 꼬리가 위치한 칸을 비워줌 (길이가 변하지 않음.)\n",
    "- **입력 조건**\n",
    "    - 예시와 함께 보기\n",
    "```\n",
    "6 # 보드의 크기 N (2 <= N <= 100)\n",
    "3 # 사과의 개수 K (0 <= K <= 100)\n",
    "3 4 # 1 사과 위치 (행, 열)\n",
    "2 5 # 2 사과 위치 (행, 열)\n",
    "5 3 # 3 사과 위치 (행, 열) , 1,1에는 사과가 존재하지 않음.\n",
    "3 # 뱀의 방향전환 횟수 L (1 <= L <= 100)\n",
    "3 D # 게임 시작 3초 후 오른쪽으로 90도 회전\n",
    "15 L # 게임 시작 15초 후 왼쪽으로 90도 회전\n",
    "17 D # 게임 시작 17초 후 오른쪽으로 90도 회전  (X, 시간초는 10000 이하의 양의 정수)\n",
    "```\n",
    "- 출력\n",
    "    - 게임이 몇초에 끝이 나는가?"
   ]
  },
  {
   "cell_type": "markdown",
   "metadata": {},
   "source": [
    "### 아이디어"
   ]
  },
  {
   "cell_type": "markdown",
   "metadata": {},
   "source": [
    "### 코드"
   ]
  },
  {
   "cell_type": "markdown",
   "metadata": {},
   "source": [
    "### 교훈"
   ]
  }
 ],
 "metadata": {
  "kernelspec": {
   "display_name": "Python 3",
   "language": "python",
   "name": "python3"
  },
  "language_info": {
   "codemirror_mode": {
    "name": "ipython",
    "version": 3
   },
   "file_extension": ".py",
   "mimetype": "text/x-python",
   "name": "python",
   "nbconvert_exporter": "python",
   "pygments_lexer": "ipython3",
   "version": "3.7.5"
  }
 },
 "nbformat": 4,
 "nbformat_minor": 4
}
