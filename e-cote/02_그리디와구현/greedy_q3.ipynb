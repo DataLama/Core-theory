{
 "cells": [
  {
   "cell_type": "markdown",
   "metadata": {},
   "source": [
    "# 문자열 뒤집기\n",
    "\n",
    "### 문제 설명\n",
    "- 0과 1로 구성된 문자열 `S`가 주어짐.\n",
    "- 목표는 주어진 문자열 `S`의 모든 숫자를 같게 만드는 것. (모두 0 or 모두 1)\n",
    "- 이때, 목표를 달성하기 위해 해야될 최소행동의 수를 구하시오\n",
    "\n",
    "### 아이디어\n",
    "- 최소행동과 최대행동의 차이는 1임.\n",
    "    - e.g.) \n",
    "    - `\"0111101110110\"`\n",
    "    - `\"11111111001101011110\"`\n",
    "- 변화하는 시점만 카운트하면 최소행동을 구할 수 있음.\n",
    "    - 0으로 시작하면... \"01\"\n",
    "    - 1로 시작하면... \"10\"\n",
    "- zip을 사용하면 연속된 문자열의 비교를 쉽게 할 수 있음."
   ]
  },
  {
   "cell_type": "markdown",
   "metadata": {},
   "source": [
    "---"
   ]
  },
  {
   "cell_type": "markdown",
   "metadata": {},
   "source": [
    "### 문제 해결\n",
    "- https://www.acmicpc.net/problem/1439\n",
    "- 백준에 문제 있길래 제출하니까 72ms 나옴."
   ]
  },
  {
   "cell_type": "code",
   "execution_count": 19,
   "metadata": {},
   "outputs": [
    {
     "name": "stdout",
     "output_type": "stream",
     "text": [
      "2\n"
     ]
    }
   ],
   "source": [
    "# from sys import stdin\n",
    "# S = stdin.read().rstrip()\n",
    "S = \"11100011101\"\n",
    "# 문제 코딩\n",
    "rule = '01' if S[0] == '0' else '10'\n",
    "num = len([pair for pair in zip(S, S[1:]) if ''.join(pair) == rule])\n",
    "print(num)"
   ]
  }
 ],
 "metadata": {
  "kernelspec": {
   "display_name": "Python 3",
   "language": "python",
   "name": "python3"
  },
  "language_info": {
   "codemirror_mode": {
    "name": "ipython",
    "version": 3
   },
   "file_extension": ".py",
   "mimetype": "text/x-python",
   "name": "python",
   "nbconvert_exporter": "python",
   "pygments_lexer": "ipython3",
   "version": "3.7.5"
  }
 },
 "nbformat": 4,
 "nbformat_minor": 4
}
