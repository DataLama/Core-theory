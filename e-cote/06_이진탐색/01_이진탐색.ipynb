{
 "cells": [
  {
   "cell_type": "markdown",
   "metadata": {},
   "source": [
    "# 이진 탐색\n",
    "범위를 반씩 좁혀가는 탐색\n",
    "\n",
    "----"
   ]
  },
  {
   "cell_type": "markdown",
   "metadata": {},
   "source": [
    "### 순차탐색\n",
    "- N개의 데이터를 차례대로 하나씩 확인하며 처리하는 것.\n",
    "- 정렬되지 않은 데이터에 대해서 가장 일반적으로 사용함.\n",
    "- 리스트 내에 데이터가 아무리 많아도 시간만 충분하다면 항상 원하는 원소를 찾을 수 있다.\n",
    "- 사용 예시\n",
    "    - 리스트에 특정 값의 원소가 있는지 체크\n",
    "    - 리스트 자료형에서 특정한 값을 가지는 원소의 개수를 세는 경우\n",
    "- 순차탐색의 시간 복잡도는 $O(N)$"
   ]
  },
  {
   "cell_type": "markdown",
   "metadata": {},
   "source": [
    "---"
   ]
  },
  {
   "cell_type": "markdown",
   "metadata": {},
   "source": [
    "### 이진탐색\n",
    "- 배열 내부의 데이터가 정렬되어 있어야만 사용할 수 있는 알고리즘.\n",
    "- 데이터가 무작위일 때는 사용할 수 없지만, 이미 정렬되어 있으면 매우 빠르게 데이터를 찾을 수 있다.\n",
    "- 이진탐색은 시작점, 중간점, 끝점의 데이터를 활용하여, 찾으려는 데이터와 중간점의 데이터를 반복적으로 비교해서 원하는 데이터를 찾는게 이진 탐색 과정임.\n",
    "- 이진탐색은 한 번 확인할 때마다 확인해야될 데이터의 수가 절반씩 줄어든다는 점에서 $O(log_N)$의 시간 복잡도.\n",
    "    - 정확하게는 $log_2N$이다.\n",
    "- 이진탐색 알고리즘은 재귀 또는 반복문으로 구현 가능함."
   ]
  },
  {
   "cell_type": "markdown",
   "metadata": {},
   "source": [
    "#### 재귀적으로 구현한 이진탐색"
   ]
  },
  {
   "cell_type": "code",
   "execution_count": 67,
   "metadata": {},
   "outputs": [],
   "source": [
    "def recursive_binary_search(array, target, begin_idx, end_idx):\n",
    "    # 종료조건\n",
    "    if begin_idx > end_idx:\n",
    "        print(begin_idx, end_idx)\n",
    "        # 최악의 경우 begin_idx == end_idx == mid_idx일 수 있음.\n",
    "        # 이 경우도 mid_idx로 탈출하지 못할 경우, array 안에 target이 없음.\n",
    "        return None\n",
    "    \n",
    "    mid_idx = (begin_idx + end_idx) // 2 \n",
    "    \n",
    "    print(array[begin_idx:(end_idx+1)], mid_idx)\n",
    "\n",
    "    # 재귀\n",
    "    if array[mid_idx] == target:\n",
    "        return mid_idx\n",
    "    \n",
    "    elif target < array[mid_idx]: # 찾고 싶은 값이 array의 중앙값보다 작음.\n",
    "        return recursive_binary_search(array, target, begin_idx, mid_idx - 1)\n",
    "    \n",
    "    else:\n",
    "        return recursive_binary_search(array, target, mid_idx + 1, end_idx)"
   ]
  },
  {
   "cell_type": "code",
   "execution_count": 68,
   "metadata": {},
   "outputs": [
    {
     "name": "stdout",
     "output_type": "stream",
     "text": [
      "[2, 4, 5, 7, 8, 9, 19, 21, 25, 43, 99] 5\n",
      "[2, 4, 5, 7, 8] 2\n",
      "[7, 8] 3\n",
      "[8] 4\n",
      "4\n"
     ]
    }
   ],
   "source": [
    "# array내에 target이 존재하는 경우\n",
    "sample = [2, 4, 5, 7, 8, 9, 19, 21, 25, 43, 99]\n",
    "print(recursive_binary_search(sample, 8, 0, len(sample)-1))"
   ]
  },
  {
   "cell_type": "code",
   "execution_count": 69,
   "metadata": {},
   "outputs": [
    {
     "name": "stdout",
     "output_type": "stream",
     "text": [
      "[2, 4, 5, 7, 8, 9, 19, 21, 25, 43, 99] 5\n",
      "[19, 21, 25, 43, 99] 8\n",
      "[19, 21] 6\n",
      "6 5\n",
      "None\n"
     ]
    }
   ],
   "source": [
    "# array내에 target이 존재하지 않는 경우\n",
    "print(recursive_binary_search(sample, 11, 0, len(sample)-1))"
   ]
  },
  {
   "cell_type": "markdown",
   "metadata": {},
   "source": [
    "- 재귀를 사용할 때, return에 유의하자"
   ]
  },
  {
   "cell_type": "markdown",
   "metadata": {},
   "source": [
    "#### 반복으로 구현한 이진탐색"
   ]
  },
  {
   "cell_type": "code",
   "execution_count": 70,
   "metadata": {},
   "outputs": [],
   "source": [
    "def iterative_binary_search(array, target, begin_idx, end_idx):\n",
    "    # 종료조건\n",
    "    while begin_idx <= end_idx:\n",
    "        \n",
    "        mid_idx = (begin_idx + end_idx) // 2 \n",
    "        \n",
    "        # 이진탐색\n",
    "        if array[mid_idx] == target:\n",
    "            return mid_idx\n",
    "    \n",
    "        elif target < array[mid_idx]: # 찾고 싶은 값이 array의 중앙값보다 작음.\n",
    "            end_idx = mid_idx -1\n",
    "\n",
    "        else:\n",
    "            begin_idx = mid_idx + 1\n",
    "    \n",
    "    # 만약 while문이 끝났는데 적절한 결과가 안나오면 없는 것.\n",
    "    return None"
   ]
  },
  {
   "cell_type": "markdown",
   "metadata": {},
   "source": [
    "### 파이썬에서 이진탐색 라이브러리"
   ]
  },
  {
   "cell_type": "code",
   "execution_count": 71,
   "metadata": {},
   "outputs": [],
   "source": [
    "from bisect import bisect_left, bisect_right\n",
    "\n",
    "# bisect_left(a, x) - array a에서 값 x가 들어갈 하한선 구하기  \n",
    "# bisect_right(a, x) - array a에서 값 x가 들어갈 상한선 구하기"
   ]
  },
  {
   "cell_type": "markdown",
   "metadata": {},
   "source": [
    "- 값이 특정 범위에 속하는 데이터의 갯수 구하기."
   ]
  },
  {
   "cell_type": "code",
   "execution_count": 78,
   "metadata": {},
   "outputs": [],
   "source": [
    "def count_by_range(a, left_value, right_value):\n",
    "    upper_bountd = bisect_right(a, right_value)\n",
    "    lower_bountd = bisect_left(a, left_value)\n",
    "    return upper_bountd - lower_bountd"
   ]
  },
  {
   "cell_type": "code",
   "execution_count": 79,
   "metadata": {},
   "outputs": [],
   "source": [
    "a = [0.1, 0.2, 0.3, 0.4, 0.6, 0.6, 0.7, 0.9]"
   ]
  },
  {
   "cell_type": "code",
   "execution_count": 80,
   "metadata": {},
   "outputs": [
    {
     "data": {
      "text/plain": [
       "4"
      ]
     },
     "execution_count": 80,
     "metadata": {},
     "output_type": "execute_result"
    }
   ],
   "source": [
    "count_by_range(a, 0.3, 0.6)"
   ]
  },
  {
   "cell_type": "markdown",
   "metadata": {},
   "source": [
    "### 파라메트릭 서치\n",
    "- 최적화 문제를 decision 문제로 바꾸어 해결하는 기법."
   ]
  }
 ],
 "metadata": {
  "kernelspec": {
   "display_name": "Python 3",
   "language": "python",
   "name": "python3"
  },
  "language_info": {
   "codemirror_mode": {
    "name": "ipython",
    "version": 3
   },
   "file_extension": ".py",
   "mimetype": "text/x-python",
   "name": "python",
   "nbconvert_exporter": "python",
   "pygments_lexer": "ipython3",
   "version": "3.7.5"
  }
 },
 "nbformat": 4,
 "nbformat_minor": 4
}
