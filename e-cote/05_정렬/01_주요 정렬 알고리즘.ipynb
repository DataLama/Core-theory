{
 "cells": [
  {
   "cell_type": "markdown",
   "metadata": {},
   "source": [
    "# 주요 정렬 알고리즘 개념 설명\n",
    "- 여기서는 선택정렬, 삽입정렬, 퀵정렬, 계수정렬을 정리함.\n",
    "- 주어진 데이터 상황에 따라서 가장 최적화된 정렬 알고리즘이 다름.\n",
    "---"
   ]
  },
  {
   "cell_type": "markdown",
   "metadata": {},
   "source": [
    "## 선택정렬\n",
    "- 주어진 데이터에서 가장 작은 데이터를 맨 앞으로 보내고, 그 다음 작은 데이터를 앞으로 보냄으로써 정렬하는 알고리즘\n",
    "- 시간 복잡도는 $O(N^2)$이다."
   ]
  },
  {
   "cell_type": "code",
   "execution_count": 1,
   "metadata": {},
   "outputs": [
    {
     "name": "stdout",
     "output_type": "stream",
     "text": [
      "[0, 1, 2, 3, 4, 5, 6, 7, 8, 9]\n"
     ]
    }
   ],
   "source": [
    "## 데이터\n",
    "array = [7, 5, 9, 0, 3, 1, 6, 2, 4, 8]\n",
    "\n",
    "## 선택 정렬\n",
    "for i in range(len(array)):\n",
    "    min_idx = i # 맨 앞의 값\n",
    "    for j in range(i+1, len(array)):\n",
    "        if array[min_idx] > array[j]:\n",
    "            min_idx = j\n",
    "    array[i], array[min_idx] = array[min_idx], array[i]\n",
    "    \n",
    "## 결과\n",
    "print(array)"
   ]
  },
  {
   "cell_type": "markdown",
   "metadata": {},
   "source": [
    "## 삽입정렬\n",
    "- 삽입정렬은 왼쪽 부분이 기본적으로 정렬되어 있다고 가정하고, 내가 지금 보고 있는 데이터를 어디에 삽입할 건지 판단함으로써 구현되는 알고리즘.\n",
    "    - 첫번째 데이터는 정렬 되어있다고 가정함.\n",
    "- 시간 복잡도는 $O(N^2)$이다.\n",
    "    - 하지만, **주어진 데이터가 거의 정렬되어 있는 경우, 퀵정렬보다 빠르게 정렬**할 수도 있다."
   ]
  },
  {
   "cell_type": "code",
   "execution_count": 2,
   "metadata": {},
   "outputs": [
    {
     "name": "stdout",
     "output_type": "stream",
     "text": [
      "[0, 1, 2, 3, 4, 5, 6, 7, 8, 9]\n"
     ]
    }
   ],
   "source": [
    "## 데이터\n",
    "array = [7, 5, 9, 0, 3, 1, 6, 2, 4, 8]\n",
    "\n",
    "## 선택 정렬\n",
    "for i in range(1, len(array)):\n",
    "    for j in range(i, 0, -1): # start에서 end로 step 1씩 감소함.\n",
    "        if array[j] < array[j-1]: # 왼쪽값이 오른쪽보다 클때\n",
    "            array[j], array[j-1] = array[j-1], array[j]\n",
    "        else:\n",
    "            break\n",
    "    \n",
    "## 결과\n",
    "print(array)"
   ]
  },
  {
   "cell_type": "markdown",
   "metadata": {},
   "source": [
    "## 퀵 정렬\n",
    "- 퀵 정렬은 피벗을 기준으로, 왼쪽과 오른쪽부터 시작하여 각각 더 크고, 작은 데이터를 선택하여 두 데이터의 위치를 변경함.\n",
    "- 왼쪽과 오른쪽이 엇갈릴 경우, 피벗과 작은 데이터를 교환함.\n",
    "- 피벗을 기준으로 왼쪽에는 피벗보다 더 작은 파티션이 존재하고, 오른쪽은 더 큰 파티션이 존재함.\n",
    "- 이러한 작업을 반복하면, 정렬이 완료됨.\n",
    "    - 재귀적으로 구현하면 간결하게 구현가능함.\n",
    "- 종료조건은 파티션의 크기가 1이 되는 경우.\n",
    "    - 정렬할 필요가 없음.\n",
    "- 시간 복잡도는 $O(NlogN)$이다.\n",
    "- 최악의 경우에는 $O(N^2)$임. 하지만, 파이썬의 sort는 이러한 경우들에도 안정적으로 $O(NlogN)$으로 구현할 수 있게 만들어져 있음."
   ]
  },
  {
   "cell_type": "code",
   "execution_count": 5,
   "metadata": {},
   "outputs": [
    {
     "name": "stdout",
     "output_type": "stream",
     "text": [
      "[0, 1, 2, 3, 4, 5, 6, 7, 8, 9]\n"
     ]
    }
   ],
   "source": [
    "array = [7, 5, 9, 0, 3, 1, 6, 2, 4, 8]\n",
    "\n",
    "# pythonic한 퀵정렬 코드\n",
    "def quick_sort(array):\n",
    "    # 종료조건\n",
    "    if len(array) <=1 :\n",
    "        return array\n",
    "    \n",
    "    # 피벗과 파티션\n",
    "    pivot = array[0]\n",
    "    tail = array[1:]\n",
    "    \n",
    "    left_side = [x for x in tail if x <= pivot]\n",
    "    right_side = [x for x in tail if x > pivot]\n",
    "    \n",
    "    return quick_sort(left_side) + [pivot] + quick_sort(right_side)\n",
    "\n",
    "# 결과 프린트\n",
    "print(quick_sort(array))"
   ]
  },
  {
   "cell_type": "markdown",
   "metadata": {},
   "source": [
    "## 계수정렬\n",
    "- 정수형 데이터일 때, 사용할 수 있는 정렬 알고리즘.\n",
    "- 모든 데이터를 카운트한 다음에 순서대로 데이터를 생성하면됨.\n",
    "- 일반적으로 max와 min의 차이가 1,000,000을 넘지 않을 때, 효과적으로 사용가능함.\n",
    "- 시간 복잡도는 $O(N+K)$임.\n",
    "- 다만, 공간복잡도가 크다."
   ]
  },
  {
   "cell_type": "code",
   "execution_count": 12,
   "metadata": {},
   "outputs": [
    {
     "data": {
      "text/plain": [
       "[0, 1, 2, 3, 4, 5, 6, 7, 8, 8, 8, 9]"
      ]
     },
     "execution_count": 12,
     "metadata": {},
     "output_type": "execute_result"
    }
   ],
   "source": [
    "from itertools import chain\n",
    "array = [7, 5, 9, 0, 3, 1, 6, 2, 4, 8, 8, 8]\n",
    "\n",
    "count = [0] * (max(array) + 1)\n",
    "\n",
    "# count list 생성.\n",
    "for i in range(len(array)):\n",
    "    count[array[i]] += 1\n",
    "\n",
    "# 계수 정렬\n",
    "result = [[i] * c for i, c in enumerate(count)]\n",
    "list(chain(*result))"
   ]
  }
 ],
 "metadata": {
  "kernelspec": {
   "display_name": "Python 3",
   "language": "python",
   "name": "python3"
  },
  "language_info": {
   "codemirror_mode": {
    "name": "ipython",
    "version": 3
   },
   "file_extension": ".py",
   "mimetype": "text/x-python",
   "name": "python",
   "nbconvert_exporter": "python",
   "pygments_lexer": "ipython3",
   "version": "3.7.5"
  }
 },
 "nbformat": 4,
 "nbformat_minor": 4
}
