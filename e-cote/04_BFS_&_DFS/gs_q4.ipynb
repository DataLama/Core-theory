{
 "cells": [
  {
   "cell_type": "markdown",
   "metadata": {},
   "source": [
    "# 괄호 변환\n",
    "https://programmers.co.kr/learn/courses/30/lessons/60058"
   ]
  },
  {
   "cell_type": "markdown",
   "metadata": {},
   "source": [
    "### 문제 설명"
   ]
  },
  {
   "cell_type": "markdown",
   "metadata": {},
   "source": [
    "- 용어 정의\n",
    "    - `p` 균형잡힌 괄호 문자열\n",
    "    - `cp` 올바른 괄호 문자열\n",
    "- input\n",
    "    - p을 입력으로 받음.\n",
    "- return \n",
    "    - cp을 출력함."
   ]
  },
  {
   "cell_type": "markdown",
   "metadata": {},
   "source": [
    "- 조건\n",
    "    1. p == '' or p.is_cp -> return p\n",
    "    2. split p as (u,v) \n",
    "        - u, v는 각각 p\n",
    "        - u은 최소 p\n",
    "        - v은 '' 가능함.\n",
    "    3. u.is_cp -> v에 대해서 1단계부터 iteration\n",
    "        - 수행한 결과를 u에 붙여 리턴\n",
    "    4. not u.is_cp\n",
    "        - empty str 정의하고, (를 붙이기\n",
    "        - 문자열 v에 대하여 재귀..\n",
    "        - )를 다시 붙임\n",
    "        - u의 첫번째 마지만 제거 나머지 뒤집어서 붙이기\n",
    "        - 생성 문자열 반환"
   ]
  },
  {
   "cell_type": "markdown",
   "metadata": {},
   "source": [
    "### 아이디어"
   ]
  },
  {
   "cell_type": "markdown",
   "metadata": {},
   "source": [
    "파이썬 함수 스택을 활용해서 재귀적으로 구현\n",
    "1. cp 판단 함수 구현\n",
    "2. bp 쪼개는 함수 구현\n",
    "3. 조건에 따라서 solution 코딩 \n",
    "\n",
    "- [옵션] strip reverse 함수 구현"
   ]
  },
  {
   "cell_type": "markdown",
   "metadata": {},
   "source": [
    "### 코드"
   ]
  },
  {
   "cell_type": "code",
   "execution_count": null,
   "metadata": {},
   "outputs": [],
   "source": [
    "def balanced_parenthesis_splitter(p):\n",
    "    r, l = 0, 0\n",
    "    for c in p:\n",
    "        if c == '(':\n",
    "            l+=1\n",
    "        elif c == ')':\n",
    "            r+=1\n",
    "        if r == l:\n",
    "            return p[:r+l], p[r+l:] \n",
    "    return p, '' # bp가 1개인 케이스\n",
    "\n",
    "\n",
    "def is_corrrect_parenthesis(p):\n",
    "    count = 0\n",
    "    for c in p:\n",
    "        if c == '(':\n",
    "            count +=1\n",
    "        else:\n",
    "            if count == 0:\n",
    "                return False\n",
    "            count -= 1\n",
    "    return True\n",
    "\n",
    "def strip_reverse(p):\n",
    "    \"\"\"logic 4-4\"\"\"\n",
    "    return ''.join([')' if c == '(' else '(' for c in p[1:-1]])\n",
    "\n",
    "\n",
    "def solution(p):\n",
    "    answer = ''\n",
    "    # return  empty string\n",
    "    if p == '':\n",
    "        return answer\n",
    "    \n",
    "    # split\n",
    "    u, v = balanced_parenthesis_splitter(p)\n",
    "    \n",
    "    # check cp \n",
    "    if is_corrrect_parenthesis(u):\n",
    "        answer += f\"{u}{solution(v)}\"\n",
    "    else:\n",
    "        answer += f\"({solution(v)}){strip_reverse(u)}\"\n",
    "    return answer"
   ]
  },
  {
   "cell_type": "markdown",
   "metadata": {},
   "source": [
    "### 교훈"
   ]
  }
 ],
 "metadata": {
  "kernelspec": {
   "display_name": "Python 3",
   "language": "python",
   "name": "python3"
  },
  "language_info": {
   "codemirror_mode": {
    "name": "ipython",
    "version": 3
   },
   "file_extension": ".py",
   "mimetype": "text/x-python",
   "name": "python",
   "nbconvert_exporter": "python",
   "pygments_lexer": "ipython3",
   "version": "3.7.5"
  }
 },
 "nbformat": 4,
 "nbformat_minor": 4
}
