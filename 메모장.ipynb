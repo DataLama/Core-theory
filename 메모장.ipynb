{
 "cells": [
  {
   "cell_type": "code",
   "execution_count": 1,
   "metadata": {},
   "outputs": [],
   "source": [
    "from collections import Counter"
   ]
  },
  {
   "cell_type": "code",
   "execution_count": 4,
   "metadata": {},
   "outputs": [
    {
     "data": {
      "text/plain": [
       "Counter({1: 1, 2: 1, 3: 3, 4: 1})"
      ]
     },
     "execution_count": 4,
     "metadata": {},
     "output_type": "execute_result"
    }
   ],
   "source": [
    "Counter([1,2,3,3,3,4])"
   ]
  },
  {
   "cell_type": "code",
   "execution_count": 8,
   "metadata": {},
   "outputs": [
    {
     "name": "stdout",
     "output_type": "stream",
     "text": [
      "[1]\n",
      "[2]\n",
      "[3, 3, 3]\n",
      "[4]\n"
     ]
    }
   ],
   "source": [
    "for k , v in Counter([1,2,3,3,3,4]).items():\n",
    "    print([k] * v)"
   ]
  },
  {
   "cell_type": "code",
   "execution_count": 10,
   "metadata": {},
   "outputs": [
    {
     "data": {
      "text/plain": [
       "[2, 3, 3, 3]"
      ]
     },
     "execution_count": 10,
     "metadata": {},
     "output_type": "execute_result"
    }
   ],
   "source": [
    "[2]+ [3, 3, 3]"
   ]
  },
  {
   "cell_type": "code",
   "execution_count": 11,
   "metadata": {},
   "outputs": [],
   "source": [
    "# from collections import Counter\n",
    "\n",
    "def solution(n, times):\n",
    "    answer = 0\n",
    "    # maximum boundary 구하기. (가장 오래 걸리는 심사위원을 기준으로 행동할 때)\n",
    "    upper_bound = n // len(times) * max(times)\n",
    "    lower_bound = 0\n",
    "    \n",
    "    # # 계수정렬 (우선...)\n",
    "    # times_count = Counter(times)\n",
    "    # times = []\n",
    "    # for k, v in times_count.items():\n",
    "    #     times += [k] * v\n",
    "    \n",
    "    # 이분탐색으로 심사 구현\n",
    "    while (lower_bound <= upper_bound):\n",
    "        mid = (lower_bound + upper_bound) // 2\n",
    "        # 계산..\n",
    "        possible_simsa = sum([(mid//t) for t in times])\n",
    "        \n",
    "        # print(lower_bound, mid, upper_bound)\n",
    "        # decision making\n",
    "        # 제한 시간 내에 심사할 수 있는 수가 적으니 늘려야됨.\n",
    "        if possible_simsa < n:\n",
    "            lower_bound = mid + 1\n",
    "        # 충분하니 약간 줄여도됨\n",
    "        else:\n",
    "            answer = mid\n",
    "            upper_bound = mid - 1\n",
    "            \n",
    "            \n",
    "        \n",
    "\n",
    "    return answer"
   ]
  },
  {
   "cell_type": "code",
   "execution_count": 12,
   "metadata": {},
   "outputs": [],
   "source": [
    "n = 6\n",
    "times = [7, 10]"
   ]
  },
  {
   "cell_type": "code",
   "execution_count": null,
   "metadata": {},
   "outputs": [],
   "source": [
    "2 11 14 17 21  2 9 3 3 4 4 == 25\n",
    "\n",
    "2 11 14    2 9 3 11\n",
    "\n",
    "11 14 17   11 3 3 8\n",
    "\n",
    "14 17 21   14 3 4 4 \n",
    "\n",
    "2 14 17   2 12 3 8\n",
    "\n",
    "11 17 21   11 6 4 4 "
   ]
  },
  {
   "cell_type": "code",
   "execution_count": 14,
   "metadata": {},
   "outputs": [],
   "source": [
    "from itertools import combinations"
   ]
  },
  {
   "cell_type": "code",
   "execution_count": 18,
   "metadata": {},
   "outputs": [
    {
     "name": "stdout",
     "output_type": "stream",
     "text": [
      "1 2\n",
      "1 3\n",
      "2 3\n"
     ]
    }
   ],
   "source": [
    "for a, b in combinations([1,2,3],2):\n",
    "    print(a, b)"
   ]
  }
 ],
 "metadata": {
  "kernelspec": {
   "display_name": "Python 3",
   "language": "python",
   "name": "python3"
  },
  "language_info": {
   "codemirror_mode": {
    "name": "ipython",
    "version": 3
   },
   "file_extension": ".py",
   "mimetype": "text/x-python",
   "name": "python",
   "nbconvert_exporter": "python",
   "pygments_lexer": "ipython3",
   "version": "3.7.5"
  }
 },
 "nbformat": 4,
 "nbformat_minor": 4
}
