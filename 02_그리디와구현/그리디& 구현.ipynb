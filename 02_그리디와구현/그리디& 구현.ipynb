{
 "cells": [
  {
   "cell_type": "markdown",
   "metadata": {},
   "source": [
    "그리디 알고리즘 - 현재 상황에서 지금 당장 좋은 것만 고를 때, 최적의 해를 구할 수 있는가?"
   ]
  },
  {
   "cell_type": "code",
   "execution_count": null,
   "metadata": {},
   "outputs": [],
   "source": [
    "..."
   ]
  },
  {
   "cell_type": "markdown",
   "metadata": {},
   "source": [
    "탐욕법으로 얻은 해가 최적의 해가 되는 상황에서, 이러한 것을 추론할 수 잇어야됨."
   ]
  },
  {
   "cell_type": "markdown",
   "metadata": {},
   "source": [
    "거스름돈 문제\n",
    "- "
   ]
  },
  {
   "cell_type": "markdown",
   "metadata": {},
   "source": [
    "가장 큰 화ㅍ\n",
    "큰 단위가 항상 작은 단위의 배수이므로 작은 단위를 종합해서 다른 해가 나올 수 없다.\n",
    "그리디를 사용할 수 있는 최소 조건을 찾는 것을 고민."
   ]
  },
  {
   "cell_type": "markdown",
   "metadata": {},
   "source": [
    "500 100 50 10"
   ]
  },
  {
   "cell_type": "code",
   "execution_count": 4,
   "metadata": {},
   "outputs": [
    {
     "name": "stdout",
     "output_type": "stream",
     "text": [
      "1.09 µs ± 103 ns per loop (mean ± std. dev. of 7 runs, 100000 loops each)\n"
     ]
    }
   ],
   "source": [
    "%%timeit\n",
    "n = 1160\n",
    "count = 0\n",
    "\n",
    "array = [500, 100, 50, 10]\n",
    "\n",
    "for coin in array:\n",
    "    count += n // coin\n",
    "    n %= coin\n",
    "\n",
    "# print(count)"
   ]
  },
  {
   "cell_type": "markdown",
   "metadata": {},
   "source": [
    "- 동전의 총 종류에만 영향을 받는.."
   ]
  },
  {
   "cell_type": "code",
   "execution_count": null,
   "metadata": {},
   "outputs": [],
   "source": []
  },
  {
   "cell_type": "markdown",
   "metadata": {},
   "source": [
    "---"
   ]
  },
  {
   "cell_type": "markdown",
   "metadata": {},
   "source": [
    "## N이 1이 될 때까지.\n",
    "- 2초\n",
    "- N 1 ~ 10만, k 2 ~ 10만\n",
    "- N을 -1하거나 K로 나눠서 최소횟수가 될때까지..."
   ]
  },
  {
   "cell_type": "code",
   "execution_count": null,
   "metadata": {},
   "outputs": [],
   "source": [
    "def "
   ]
  },
  {
   "cell_type": "markdown",
   "metadata": {},
   "source": [
    "아이디어 가장 많이 나누면됨.\n",
    "N의 값을 줄일 때 **2 이상의 수로 나누는 작업이 1을 빼는 작업**보다 더 수를 훨씬많이 줄일 수 있음."
   ]
  },
  {
   "cell_type": "markdown",
   "metadata": {},
   "source": [
    "# 정당성 분석\n",
    "- K는 2 이상의 수여도 1을 빼는 것보다 항상 빠르게 N을 줄일 수 있다.\n",
    "- N이 양의 정수여서 최적해 성립."
   ]
  },
  {
   "cell_type": "code",
   "execution_count": 16,
   "metadata": {},
   "outputs": [],
   "source": [
    "def function(data):\n",
    "    N, k= map(int, data.split()) # 공백 기준으로 구분하여 입력.\n",
    "    count = 0\n",
    "    \n",
    "    while True:\n",
    "    \n",
    "        if N % k == 0: # 나누기 \n",
    "            N /= k\n",
    "            count += 1\n",
    "\n",
    "        else: # 1 빼기\n",
    "            N -= 1\n",
    "            count += 1\n",
    "        \n",
    "        if N == 1:\n",
    "            return count"
   ]
  },
  {
   "cell_type": "code",
   "execution_count": 17,
   "metadata": {},
   "outputs": [
    {
     "name": "stdin",
     "output_type": "stream",
     "text": [
      " 54321 3\n"
     ]
    }
   ],
   "source": [
    "N_and_k = input() # n 입력하고 space하고 k\n",
    "# result = function(N_and_k)\n",
    "# print(result)"
   ]
  },
  {
   "cell_type": "code",
   "execution_count": 19,
   "metadata": {},
   "outputs": [
    {
     "name": "stdout",
     "output_type": "stream",
     "text": [
      "8.27 µs ± 759 ns per loop (mean ± std. dev. of 7 runs, 100000 loops each)\n"
     ]
    }
   ],
   "source": [
    "%%timeit\n",
    "result = function(N_and_k)"
   ]
  },
  {
   "cell_type": "code",
   "execution_count": 24,
   "metadata": {},
   "outputs": [],
   "source": [
    "def function(data):\n",
    "    n, k= map(int, data.split()) # 공백 기준으로 구분하여 입력.\n",
    "    count = 0\n",
    "    \n",
    "    while True:\n",
    "        target = (n // k) * k\n",
    "        count += (n - target)\n",
    "        n = target\n",
    "        \n",
    "        if n < k:\n",
    "            break\n",
    "        count += 1\n",
    "        n //= k\n",
    "\n",
    "        # 시간 복잡도가 로그 시간복잡도. (선형 말고...)\n",
    "        \n",
    "    count += (n-1) # 으밈\n",
    "    \n",
    "    return count"
   ]
  },
  {
   "cell_type": "code",
   "execution_count": 25,
   "metadata": {},
   "outputs": [
    {
     "name": "stdout",
     "output_type": "stream",
     "text": [
      "4.04 µs ± 75.2 ns per loop (mean ± std. dev. of 7 runs, 100000 loops each)\n"
     ]
    }
   ],
   "source": [
    "%%timeit\n",
    "result = function(N_and_k)"
   ]
  },
  {
   "cell_type": "markdown",
   "metadata": {},
   "source": [
    "- 시간이 절반으로 감소...ㄷㄷ"
   ]
  },
  {
   "cell_type": "code",
   "execution_count": 33,
   "metadata": {},
   "outputs": [
    {
     "data": {
      "text/plain": [
       "54318"
      ]
     },
     "execution_count": 33,
     "metadata": {},
     "output_type": "execute_result"
    }
   ],
   "source": [
    "(54320 //3) * 3"
   ]
  },
  {
   "cell_type": "code",
   "execution_count": 32,
   "metadata": {},
   "outputs": [
    {
     "data": {
      "text/plain": [
       "18106.666666666668"
      ]
     },
     "execution_count": 32,
     "metadata": {},
     "output_type": "execute_result"
    }
   ],
   "source": [
    "54320 /3"
   ]
  }
 ],
 "metadata": {
  "kernelspec": {
   "display_name": "Python 3",
   "language": "python",
   "name": "python3"
  },
  "language_info": {
   "codemirror_mode": {
    "name": "ipython",
    "version": 3
   },
   "file_extension": ".py",
   "mimetype": "text/x-python",
   "name": "python",
   "nbconvert_exporter": "python",
   "pygments_lexer": "ipython3",
   "version": "3.7.5"
  }
 },
 "nbformat": 4,
 "nbformat_minor": 4
}
