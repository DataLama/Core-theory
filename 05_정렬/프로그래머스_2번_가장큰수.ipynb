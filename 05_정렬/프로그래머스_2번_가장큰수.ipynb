{
 "cells": [
  {
   "cell_type": "markdown",
   "metadata": {},
   "source": [
    "# 가장 큰 수\n",
    "\n",
    "**문제 설명**\n",
    "\n",
    "0 또는 양의 정수가 주어졌을 때, 정수를 이어 붙여 만들 수 있는 가장 큰 수를 알아내 주세요.\n",
    "\n",
    "예를 들어, 주어진 정수가 [6, 10, 2]라면 [6102, 6210, 1062, 1026, 2610, 2106]를 만들 수 있고, 이중 가장 큰 수는 6210입니다.\n",
    "\n",
    "0 또는 양의 정수가 담긴 배열 numbers가 매개변수로 주어질 때, 순서를 재배치하여 만들 수 있는 가장 큰 수를 문자열로 바꾸어 return 하도록 solution 함수를 작성해주세요.\n",
    "\n",
    "**제한 사항**\n",
    "- numbers의 길이는 1 이상 100,000 이하입니다.\n",
    "- numbers의 원소는 0 이상 1,000 이하입니다.\n",
    "- 정답이 너무 클 수 있으니 문자열로 바꾸어 return 합니다."
   ]
  },
  {
   "cell_type": "markdown",
   "metadata": {},
   "source": [
    "> 틀림."
   ]
  },
  {
   "cell_type": "markdown",
   "metadata": {},
   "source": [
    "---"
   ]
  },
  {
   "cell_type": "markdown",
   "metadata": {},
   "source": [
    "## 문제 풀이"
   ]
  },
  {
   "cell_type": "markdown",
   "metadata": {},
   "source": [
    "1) 대소 비교를 커스텀하게 정의해서 정렬하는 로직"
   ]
  },
  {
   "cell_type": "code",
   "execution_count": 40,
   "metadata": {},
   "outputs": [],
   "source": [
    "import functools\n",
    "\n",
    "def string_comparison(a, b):\n",
    "    \"\"\"a, b are both string\"\"\"\n",
    "    t1 = a + b  \n",
    "    t2 = b + a\n",
    "    return (int(t1) > int(t2)) - (int(t1) < int(t2)) # t1이 크면 1 (a > b), t2가 크면 -1 (a < b), 같으면 0 (a==b)\n",
    "\n",
    "def solution(numbers):\n",
    "    n = [str(x) for x in numbers]\n",
    "    n = sorted(n, key=functools.cmp_to_key(string_comparison), reverse=True)\n",
    "    answer = str(int(''.join(n))) # '00000' -> '0'으로 리턴.\n",
    "    return answer"
   ]
  },
  {
   "cell_type": "code",
   "execution_count": 41,
   "metadata": {},
   "outputs": [
    {
     "data": {
      "text/plain": [
       "'9534330'"
      ]
     },
     "execution_count": 41,
     "metadata": {},
     "output_type": "execute_result"
    }
   ],
   "source": [
    "numbers = [3, 30, 34, 5, 9]\n",
    "solution(numbers) # \"9534330\""
   ]
  },
  {
   "cell_type": "markdown",
   "metadata": {},
   "source": [
    "2) 문자열 비교의 특성과 제한 조건을 잘 이용한 풀이"
   ]
  },
  {
   "cell_type": "code",
   "execution_count": 44,
   "metadata": {},
   "outputs": [],
   "source": [
    "def solution(numbers):\n",
    "    numbers = list(map(str, numbers))\n",
    "    # 최대 세자릿수까지의 비교이므로, 문자열 비교 특성을 잘 활용하면 아래의 키로 정렬가능. 9 > 991, 990 < 991  \n",
    "    numbers.sort(key=lambda x: x*3, reverse=True) \n",
    "    return str(int(''.join(numbers)))"
   ]
  },
  {
   "cell_type": "code",
   "execution_count": 45,
   "metadata": {},
   "outputs": [
    {
     "data": {
      "text/plain": [
       "'9534330'"
      ]
     },
     "execution_count": 45,
     "metadata": {},
     "output_type": "execute_result"
    }
   ],
   "source": [
    "numbers = [3, 30, 34, 5, 9]\n",
    "solution(numbers) # \"9534330\""
   ]
  },
  {
   "cell_type": "markdown",
   "metadata": {},
   "source": [
    "---"
   ]
  },
  {
   "cell_type": "markdown",
   "metadata": {},
   "source": [
    "## 배울만한 것"
   ]
  },
  {
   "cell_type": "markdown",
   "metadata": {},
   "source": [
    "### 파이썬에서 문자열의 크기 비교 방식\n",
    "- 파이썬에서 문자열은 기본적으로 char단위로 ascii 숫자로 변환되서 맨 앞부터 비교함.\n",
    "- 문자열의 길이가 다른 경우 길이가 같은 부분까지 비교 후, 대소 비교를 함."
   ]
  },
  {
   "cell_type": "code",
   "execution_count": 21,
   "metadata": {},
   "outputs": [
    {
     "name": "stdout",
     "output_type": "stream",
     "text": [
      "False\n",
      "ascii of ab 97,98  <  ascii of ac 97,99\n"
     ]
    }
   ],
   "source": [
    "## 문자열 대소 비교\n",
    "print('ab' > 'ac')\n",
    "print(f\"ascii of ab {ord('a')},{ord('b')}  <  ascii of ac {ord('a')},{ord('c')}\")"
   ]
  },
  {
   "cell_type": "code",
   "execution_count": 22,
   "metadata": {},
   "outputs": [
    {
     "name": "stdout",
     "output_type": "stream",
     "text": [
      "True\n"
     ]
    }
   ],
   "source": [
    "## 길이가 다른 경우\n",
    "print('222' > '221221221') # 길이 3만큼의 시퀀스 부분을 비교함."
   ]
  },
  {
   "cell_type": "markdown",
   "metadata": {},
   "source": [
    "### functools.cmp_to_key 사용 방법\n",
    "- sorted(), min(), max(), heapq.nlargest(), heapq.nsmallest(), itertools.groupby()와 같이 key값을 넘길 수 있는 곳에서 사용할 수 있음.\n",
    "- 커스텀 비교 연산을 정의하고, 이러한 로직을 바탕으로 정렬할 수 있음.\n",
    "    - 리턴은 음수, 양수, 0을 통해 대소 관계를 정의함.\n",
    "    - input (a, b)일 때,\n",
    "        - 음수 리턴 a < b\n",
    "        - 양수 리턴 a > b\n",
    "        - 0 리턴 a == b"
   ]
  }
 ],
 "metadata": {
  "kernelspec": {
   "display_name": "Python 3",
   "language": "python",
   "name": "python3"
  },
  "language_info": {
   "codemirror_mode": {
    "name": "ipython",
    "version": 3
   },
   "file_extension": ".py",
   "mimetype": "text/x-python",
   "name": "python",
   "nbconvert_exporter": "python",
   "pygments_lexer": "ipython3",
   "version": "3.7.5"
  }
 },
 "nbformat": 4,
 "nbformat_minor": 4
}
