{
 "cells": [
  {
   "cell_type": "markdown",
   "metadata": {},
   "source": [
    "데모"
   ]
  },
  {
   "cell_type": "code",
   "execution_count": 27,
   "metadata": {},
   "outputs": [],
   "source": [
    "def solution(A):\n",
    "    # write your code in Python 3.6\n",
    "    \n",
    "    # build Counter\n",
    "    counter = [0] * (max(A)+1)\n",
    "    for num in A:\n",
    "        if num > 0:\n",
    "            counter[num] +=1\n",
    "    \n",
    "    print(counter)\n",
    "    \n",
    "    # smallest one\n",
    "    if counter == []:\n",
    "        print(1)\n",
    "        return 1\n",
    "    else:\n",
    "        for i, x in enumerate(counter):\n",
    "            if (x == 0) and (i > 0):\n",
    "                print(i+1)\n",
    "                return i\n",
    "        return i\n",
    "        "
   ]
  },
  {
   "cell_type": "code",
   "execution_count": 28,
   "metadata": {},
   "outputs": [],
   "source": [
    "A =[1,3,6,4,1,2] "
   ]
  },
  {
   "cell_type": "code",
   "execution_count": 29,
   "metadata": {},
   "outputs": [
    {
     "name": "stdout",
     "output_type": "stream",
     "text": [
      "[0, 2, 1, 1, 1, 0, 1]\n",
      "6\n"
     ]
    },
    {
     "data": {
      "text/plain": [
       "5"
      ]
     },
     "execution_count": 29,
     "metadata": {},
     "output_type": "execute_result"
    }
   ],
   "source": [
    "solution(A)"
   ]
  },
  {
   "cell_type": "markdown",
   "metadata": {},
   "source": [
    "----"
   ]
  },
  {
   "cell_type": "markdown",
   "metadata": {},
   "source": [
    "# 1번"
   ]
  },
  {
   "cell_type": "markdown",
   "metadata": {},
   "source": [
    "- 티셔츠 판매 s, m, l 사이즈\n",
    "- T는 s, m, l 스트링 연속임.\n",
    "- 이거를 사이즈에 맞게 소팅해라.\n",
    "계수정렬"
   ]
  },
  {
   "cell_type": "code",
   "execution_count": null,
   "metadata": {},
   "outputs": [],
   "source": [
    "0, S\n",
    "1, M\n",
    "2, L"
   ]
  },
  {
   "cell_type": "code",
   "execution_count": 31,
   "metadata": {},
   "outputs": [],
   "source": [
    "counter = [0] * 3"
   ]
  },
  {
   "cell_type": "code",
   "execution_count": 32,
   "metadata": {},
   "outputs": [
    {
     "data": {
      "text/plain": [
       "[0, 0, 0]"
      ]
     },
     "execution_count": 32,
     "metadata": {},
     "output_type": "execute_result"
    }
   ],
   "source": [
    "counter"
   ]
  },
  {
   "cell_type": "code",
   "execution_count": 33,
   "metadata": {},
   "outputs": [],
   "source": [
    "idx2token = ['S', 'M', 'L']\n",
    "token2idx = {k:i for i, k in enumerate(idx2token)}"
   ]
  },
  {
   "cell_type": "code",
   "execution_count": 34,
   "metadata": {},
   "outputs": [
    {
     "data": {
      "text/plain": [
       "{'S': 0, 'M': 1, 'L': 2}"
      ]
     },
     "execution_count": 34,
     "metadata": {},
     "output_type": "execute_result"
    }
   ],
   "source": [
    "token2idx"
   ]
  },
  {
   "cell_type": "code",
   "execution_count": 35,
   "metadata": {},
   "outputs": [],
   "source": [
    "counter = [0] * 3\n",
    "for x in \"MSSLS\":\n",
    "    counter[token2idx[x]] += 1\n",
    "    \n",
    "    "
   ]
  },
  {
   "cell_type": "code",
   "execution_count": 45,
   "metadata": {},
   "outputs": [
    {
     "data": {
      "text/plain": [
       "'SSSML'"
      ]
     },
     "execution_count": 45,
     "metadata": {},
     "output_type": "execute_result"
    }
   ],
   "source": [
    "''.join([idx2token[i]*x for i, x in enumerate(counter)])"
   ]
  },
  {
   "cell_type": "code",
   "execution_count": null,
   "metadata": {},
   "outputs": [],
   "source": [
    "counter"
   ]
  },
  {
   "cell_type": "code",
   "execution_count": 46,
   "metadata": {},
   "outputs": [],
   "source": [
    "import numpy as np"
   ]
  },
  {
   "cell_type": "code",
   "execution_count": 48,
   "metadata": {},
   "outputs": [
    {
     "data": {
      "text/plain": [
       "3521928.0948873623"
      ]
     },
     "execution_count": 48,
     "metadata": {},
     "output_type": "execute_result"
    }
   ],
   "source": [
    "np.log2(200000) *200000\n"
   ]
  },
  {
   "cell_type": "code",
   "execution_count": null,
   "metadata": {},
   "outputs": [],
   "source": [
    "200000 "
   ]
  },
  {
   "cell_type": "code",
   "execution_count": 37,
   "metadata": {},
   "outputs": [
    {
     "data": {
      "text/plain": [
       "83"
      ]
     },
     "execution_count": 37,
     "metadata": {},
     "output_type": "execute_result"
    }
   ],
   "source": [
    "ord('S')"
   ]
  },
  {
   "cell_type": "code",
   "execution_count": 38,
   "metadata": {},
   "outputs": [
    {
     "data": {
      "text/plain": [
       "77"
      ]
     },
     "execution_count": 38,
     "metadata": {},
     "output_type": "execute_result"
    }
   ],
   "source": [
    "ord('M')"
   ]
  },
  {
   "cell_type": "code",
   "execution_count": 39,
   "metadata": {},
   "outputs": [
    {
     "data": {
      "text/plain": [
       "76"
      ]
     },
     "execution_count": 39,
     "metadata": {},
     "output_type": "execute_result"
    }
   ],
   "source": [
    "ord('L')"
   ]
  },
  {
   "cell_type": "code",
   "execution_count": 42,
   "metadata": {},
   "outputs": [
    {
     "data": {
      "text/plain": [
       "'SSSML'"
      ]
     },
     "execution_count": 42,
     "metadata": {},
     "output_type": "execute_result"
    }
   ],
   "source": [
    "''.join(sorted(\"MSSLS\", reverse=True)) "
   ]
  },
  {
   "cell_type": "code",
   "execution_count": null,
   "metadata": {},
   "outputs": [],
   "source": [
    "def solution(T):\n",
    "    \n",
    "    "
   ]
  },
  {
   "cell_type": "markdown",
   "metadata": {},
   "source": [
    "# 2번"
   ]
  },
  {
   "cell_type": "markdown",
   "metadata": {},
   "source": [
    "sql"
   ]
  },
  {
   "cell_type": "markdown",
   "metadata": {},
   "source": [
    "# 3번"
   ]
  },
  {
   "cell_type": "markdown",
   "metadata": {},
   "source": [
    "- array A  N개의 양수\n",
    "- 정수 k \n",
    "- largest even sum (합이 짝수인데 최대인 것.)\n",
    "- -1 반환 케이스\n",
    "    - 홀수\n",
    "    - k가 n보다 크다.\n",
    "\n"
   ]
  },
  {
   "cell_type": "code",
   "execution_count": null,
   "metadata": {},
   "outputs": [],
   "source": [
    "A = [4, 9, 8, 2, 6]\n",
    "K = 3"
   ]
  },
  {
   "cell_type": "code",
   "execution_count": null,
   "metadata": {},
   "outputs": [],
   "source": [
    "8 6 4"
   ]
  },
  {
   "cell_type": "code",
   "execution_count": 49,
   "metadata": {},
   "outputs": [],
   "source": [
    "from itertools import combinations"
   ]
  },
  {
   "cell_type": "code",
   "execution_count": 66,
   "metadata": {},
   "outputs": [],
   "source": [
    "for x in combinations([10000], 2):\n",
    "    print(x)"
   ]
  },
  {
   "cell_type": "code",
   "execution_count": 67,
   "metadata": {},
   "outputs": [
    {
     "data": {
      "text/plain": [
       "(8, 2, 6)"
      ]
     },
     "execution_count": 67,
     "metadata": {},
     "output_type": "execute_result"
    }
   ],
   "source": [
    "x"
   ]
  },
  {
   "cell_type": "code",
   "execution_count": 56,
   "metadata": {},
   "outputs": [],
   "source": [
    "\n",
    "tmp = [sum(x) for x in combinations([4, 9, 8, 2, 6], 3) if sum(x) % 2 == 0]"
   ]
  },
  {
   "cell_type": "code",
   "execution_count": 58,
   "metadata": {},
   "outputs": [
    {
     "data": {
      "text/plain": [
       "18"
      ]
     },
     "execution_count": 58,
     "metadata": {},
     "output_type": "execute_result"
    }
   ],
   "source": [
    "max(tmp)"
   ]
  },
  {
   "cell_type": "code",
   "execution_count": null,
   "metadata": {},
   "outputs": [],
   "source": [
    "tm"
   ]
  },
  {
   "cell_type": "code",
   "execution_count": 59,
   "metadata": {},
   "outputs": [],
   "source": [
    "import numpy as np"
   ]
  },
  {
   "cell_type": "code",
   "execution_count": 74,
   "metadata": {},
   "outputs": [
    {
     "data": {
      "text/plain": [
       "array([  64, 8105, 1890, 7732, 5771, 5032, 1543, 4348, 8322, 5647, 3078,\n",
       "       5055, 4652, 1868, 7356, 7488,  750, 8215, 7684, 7977, 1584, 5072,\n",
       "        874, 4759, 7321, 9788, 5524, 5665, 3212, 5919, 8124, 3163, 1196,\n",
       "       4400, 7985, 1947, 3251, 9730, 9868, 5883, 8962, 3726, 5238, 8370,\n",
       "       3884, 6972, 6517, 5711, 5706, 2571, 2445,  998, 9374, 5467, 7194,\n",
       "       7220, 8278, 5580, 1822, 4546, 1365, 4787,  326, 8869, 2371, 9288,\n",
       "        360, 1756, 2670,  454, 3929, 6104, 3950, 8548, 2124, 3322, 4318,\n",
       "       5653,  431, 7589, 6734, 5731, 6422, 5322, 6331, 2519,  699, 2156,\n",
       "       2855, 9139, 3965, 1604, 3133, 8982, 1239, 4933, 2110, 2021, 3293,\n",
       "       1176, 3456, 4289, 2000,  434, 9898, 2062,   44, 1686,  183, 7579,\n",
       "       7412, 3781, 7536, 1504, 7729, 3766, 2944, 9617, 5089, 8347, 5207,\n",
       "       9232, 1188, 4773, 4564, 5014, 1360,  577, 6198, 2719, 3973,  821,\n",
       "       4628, 8351, 4556, 9156, 4917, 6360, 4327, 8096, 3801, 9585, 8527,\n",
       "       8585, 8094, 4079, 3510, 3479, 1175, 7833, 7101, 1512, 4579, 2744,\n",
       "       9275, 8908, 2439, 5014, 4121, 5347, 9820, 8967, 9364, 7225, 1861,\n",
       "       3611, 9939, 3331, 6276, 8996, 2759, 9548, 4545, 4033, 5315, 6480,\n",
       "       2646, 6177, 6354, 1374, 5311,  324,  950, 8208,  802, 6307,  248,\n",
       "       9788,  140, 1566, 6684, 4279, 5692, 8030, 4804, 3058, 7789,  846,\n",
       "       8345, 4076, 2791, 6512, 6483, 1080, 1933, 1586, 4601, 4623, 6142,\n",
       "       9631, 8392,  488, 1550, 4699, 2625, 3614,  849, 8572, 9527, 7862,\n",
       "       4233, 4366, 5205, 4491, 7889, 6114, 6301, 2773, 8905, 4340, 2103,\n",
       "       9821, 3554, 8640, 6542, 7803, 1799, 2580, 7264, 5212,  939, 8448,\n",
       "       4944, 5135, 2383, 9913, 7122, 2964, 7739, 4987, 5156, 9757,  253,\n",
       "       6252, 2388, 4486, 8758, 3568, 3397, 9377, 1165, 2377, 1116, 3824,\n",
       "       7933, 2557, 3834, 6251, 9444, 3554, 6993, 7896, 5679, 4297, 6887,\n",
       "       9303, 9957, 1419, 1954, 4995,  656, 4577, 8909, 1075, 3142, 9498,\n",
       "        790, 7587, 2328, 7461, 8241, 7659, 9283, 5774, 7216, 7063, 6663,\n",
       "       7133, 7584, 3439, 7559, 5233, 9143, 4175, 8096, 4051, 4856, 4864,\n",
       "       6270, 9303, 8217, 7402, 7625, 1015, 9230,  843, 7299, 3883,  548,\n",
       "       2027, 3695, 8753, 9690, 4467, 8387, 1219, 6176, 8180, 3018, 1282,\n",
       "       1867, 7828,  859, 8001, 1662, 7475,  202, 4862, 7961, 8074, 4323,\n",
       "       1478, 7073, 1908, 7603, 4019, 5713, 1868, 1727, 1788, 7869, 3974,\n",
       "       5728, 8906, 3885, 2977, 2075, 1348, 7774, 2395, 2627, 7102,  530,\n",
       "        803, 1016, 5555, 5768, 4574, 1308, 1201, 4791, 4554,  809, 3170,\n",
       "       3036, 4562, 7740, 6372, 6798, 2244,  595, 1442, 8152, 4760, 7442,\n",
       "        175, 6218, 2292, 6416, 7860, 5477, 6438, 1989, 7390, 5409, 8852,\n",
       "       1612, 1336, 7358,   51,  521, 2280, 7620, 5766, 2879, 8139, 5588,\n",
       "       7764, 2768,  659, 3156, 3585, 3360, 3001, 8409, 5206, 9011, 9425,\n",
       "       3801, 2688, 7290, 1722, 2505, 8735, 8566,  317, 4064, 7309, 7533,\n",
       "       3189, 5179, 6388, 6627, 6540, 1941, 8044, 2998,  697, 3455, 4719,\n",
       "       7301, 5281, 3384, 9978, 6599, 2848, 7499, 6198, 6494, 8187, 1513,\n",
       "       2722, 1444, 3214, 9740, 9630, 3293, 2018, 9239, 3218, 8326, 8098,\n",
       "       2280, 5296, 1445, 2529,  935, 5609,  960, 2761, 4657, 3449, 4632,\n",
       "       9504, 8540, 3474, 8006, 3749, 4683, 9797,  485, 3548,  340, 7278,\n",
       "       5211, 2879,  106, 7100, 5155, 4321, 5741, 2610, 7720, 3572,  775,\n",
       "       1252, 1839, 3808, 7377, 2216, 6411, 2430, 5376, 5863, 1733, 5748,\n",
       "       2141, 3106, 9884, 8539, 5232, 5645, 1573, 8978, 1487, 2569, 7828,\n",
       "        130, 9480, 1897, 3392,   14, 6545,  473, 7994, 8207, 8731, 5170,\n",
       "       4078, 6181, 1223, 4430, 9141, 7745, 7380, 6495, 7347, 8741, 6825,\n",
       "       5523, 2226, 1271, 1557, 5501,  105, 1870, 7353, 2117, 6249,  410,\n",
       "       3764, 3167, 3210, 3361, 5552, 6713,  311, 7821, 2383, 4853, 2191,\n",
       "       9908, 3605, 3561, 5808, 3494, 9346, 7574, 8632, 4881, 5022,  503,\n",
       "       2794, 1206, 1869, 2971, 9373, 3637, 5496, 6928, 3616,  722, 6198,\n",
       "       5123, 6787, 4263,  643, 9502, 4485,  772, 7285, 4353, 5401,  459,\n",
       "       9196, 1355, 2229, 6562, 2326, 7526, 5510, 8539, 7004, 2980, 2297,\n",
       "        274, 7957, 1985,  433, 3796,  468, 1904, 2693, 9513, 3339, 7169,\n",
       "       9927, 6431, 3718, 2398,  158, 3497, 6473, 1646, 1719, 7698, 4602,\n",
       "       5414, 1789, 6434, 7075,  586,  820, 1516, 7712, 7523,  610, 1003,\n",
       "       7955, 8750, 2611, 6815, 3084, 4345, 6443, 5412,  103, 7693, 4494,\n",
       "       2313, 3713, 4470, 3553, 9416, 1263, 3763,  640, 7522,  236, 3298,\n",
       "        872, 7779, 4227, 6487, 6994, 7902, 6071, 9502, 4174, 3880, 2627,\n",
       "       1127, 7239, 3890, 7832,  116, 4048, 7790, 8299,  244, 2302, 6486,\n",
       "       1143, 1874,  989, 8262,  251, 6544, 6992, 2623, 2549, 6596, 7196,\n",
       "       1103, 3996, 3536, 3790, 7106, 9779, 2270, 9720, 3373, 2418, 5621,\n",
       "       1266, 5466, 3605, 2081, 3624, 5722, 9728,  617, 4826, 4220, 6298,\n",
       "       2247, 7810, 8790, 5563, 5811, 6898, 9306, 8861,  321, 6276, 1477,\n",
       "       5049, 8924, 5799, 8557, 4039, 1052, 1732, 2022, 6364, 3364, 6509,\n",
       "       7722, 4939, 4213, 2718, 9951, 4587,  334, 9109, 5690, 2601, 1866,\n",
       "       7229, 1461, 3559, 8777, 3526, 5573, 3366, 9422, 3483,    8, 4786,\n",
       "        719, 2757, 9294, 7764, 7946, 4158, 2718, 2148,  450, 6939, 5951,\n",
       "       6953, 4155, 4776, 5770, 8201,  493, 1433, 8845, 7219, 6474, 4921,\n",
       "       4944, 5239, 2756, 8389, 6205, 5045, 3312, 1937, 3092, 6801, 2333,\n",
       "       5286, 3107, 5902, 9377, 7981,  663, 1123, 1727, 3425, 6390, 9735,\n",
       "       1149, 4837, 4020, 5661, 4710, 9173, 9337, 6443,  963, 4317, 3440,\n",
       "        544, 3746, 4534, 5345, 5342, 6286, 4995, 1538, 4452, 1103, 5204,\n",
       "       2245, 4304, 1586, 1963, 4553, 5937, 3728, 7209, 3182, 5781, 9476,\n",
       "       8355, 5616, 7335, 8148,  763, 8978, 5893, 3293, 5487,  325, 3157,\n",
       "        438, 5345, 3525, 5563, 7780, 1121, 5802, 4744, 7713, 5303, 6297,\n",
       "       9947, 2730, 9531, 6293, 6079, 2308, 5599, 1643, 3918, 9987,  273,\n",
       "       9774, 5124, 6642, 3779, 2842, 2377, 7520, 3478, 1992, 4510, 5019,\n",
       "       4644,  473,  310, 9228, 2922, 1541, 9969, 6670, 3434, 5797, 6195,\n",
       "       5848, 8248, 5476, 1866, 5842, 4474,  827, 8100, 7395, 5240, 5907,\n",
       "       9715, 6989, 5874, 8684, 6034, 9287, 2464, 7423, 6489, 1280, 1386,\n",
       "       6343, 4834, 4648, 7543, 2568, 2812, 3879,  320,  740, 3194, 2408,\n",
       "       7558, 7165, 4029, 9537, 2205, 1965, 1580, 8782, 3966, 4499, 1666,\n",
       "       9340, 5529, 5008, 8182, 7964,  317, 7299, 9441, 6106, 4479,  824,\n",
       "       7726, 6763, 1207, 7900, 2148, 8594, 3745, 1803, 6629, 5801, 3323,\n",
       "       5677, 9325, 6364, 1767, 4412, 1916, 6819, 5608, 5942, 3092, 3874,\n",
       "       8928, 6334, 1743, 1240, 7583,  506, 2059, 3004,  697, 8033, 9575,\n",
       "        678, 2559,  529, 7344, 1845, 4231, 9065, 2596, 2649,  465,  396,\n",
       "       9156, 5831, 2813, 8330,  571, 6836, 4814, 7840, 9066, 4857])"
      ]
     },
     "execution_count": 74,
     "metadata": {},
     "output_type": "execute_result"
    }
   ],
   "source": [
    "np.random.randint(low=1, high=10000, size = 1000)"
   ]
  },
  {
   "cell_type": "code",
   "execution_count": 75,
   "metadata": {},
   "outputs": [],
   "source": [
    "test = ([64, 8105, 1890, 7732, 5771, 5032, 1543, 4348, 8322, 5647, 3078, 5055, 4652, 1868, 7356, 7488,  750, 8215, 7684, 7977, 1584, 5072, 874, 4759, 7321, 9788, 5524, 5665, 3212, 5919, 8124, 3163, 1196, 4400, 7985, 1947, 3251, 9730, 9868, 5883, 8962, 3726, 5238, 8370, 3884, 6972, 6517, 5711, 5706, 2571, 2445,  998, 9374, 5467, 7194, 7220, 8278, 5580, 1822, 4546, 1365, 4787,  326, 8869, 2371, 9288, 360, 1756, 2670,  454, 3929, 6104, 3950, 8548, 2124, 3322, 4318, 5653,  431, 7589, 6734, 5731, 6422, 5322, 6331, 2519,  699, 2156, 2855, 9139, 3965, 1604, 3133, 8982, 1239, 4933, 2110, 2021, 3293, 1176, 3456, 4289, 2000,  434, 9898, 2062,   44, 1686,  183, 7579, 7412, 3781, 7536, 1504, 7729, 3766, 2944, 9617, 5089, 8347, 5207, 3194, 2408, 7558, 7165, 4029, 9537, 2205, 1965, 1580, 8782, 3966, 4499, 1666, 9340, 5529, 5008, 8182, 7964,  317, 7299, 9441, 6106, 4479,  824, 7726, 6763, 1207, 7900, 2148, 8594, 3745, 1803, 6629, 5801, 3323, 5677, 9325, 6364, 1767, 4412, 1916, 6819, 5608, 5942, 3092, 3874, 8928, 6334, 1743, 1240, 7583,  506, 2059, 3004,  697, 8033, 9575, 678, 2559,  529, 7344, 1845, 4231, 9065, 2596, 2649,  465,  396, 9156, 5831, 2813, 8330,  571, 6836, 4814, 7840, 9066, 4857], 10)"
   ]
  },
  {
   "cell_type": "code",
   "execution_count": 76,
   "metadata": {},
   "outputs": [],
   "source": [
    "from itertools import combinations \n",
    "\n",
    "def solution(A, K):\n",
    "    # dummy solution\n",
    "    even_list = [sum(x) for x in combinations(A, K) if sum(x)%2==0]\n",
    "    \n",
    "    if even_list == []:\n",
    "        return -1\n",
    "    else:\n",
    "        return max(even_list)"
   ]
  },
  {
   "cell_type": "code",
   "execution_count": 77,
   "metadata": {},
   "outputs": [],
   "source": [
    "A = test[0]\n",
    "K = test[1]"
   ]
  },
  {
   "cell_type": "code",
   "execution_count": 79,
   "metadata": {},
   "outputs": [
    {
     "ename": "KeyboardInterrupt",
     "evalue": "",
     "output_type": "error",
     "traceback": [
      "\u001b[0;31m\u001b[0m",
      "\u001b[0;31mKeyboardInterrupt\u001b[0mTraceback (most recent call last)",
      "\u001b[0;32m<ipython-input-79-d0d447cdec0c>\u001b[0m in \u001b[0;36m<module>\u001b[0;34m\u001b[0m\n\u001b[0;32m----> 1\u001b[0;31m \u001b[0msolution\u001b[0m\u001b[0;34m(\u001b[0m\u001b[0mA\u001b[0m\u001b[0;34m,\u001b[0m \u001b[0mK\u001b[0m\u001b[0;34m)\u001b[0m\u001b[0;34m\u001b[0m\u001b[0;34m\u001b[0m\u001b[0m\n\u001b[0m",
      "\u001b[0;32m<ipython-input-76-46f8964b0130>\u001b[0m in \u001b[0;36msolution\u001b[0;34m(A, K)\u001b[0m\n\u001b[1;32m      3\u001b[0m \u001b[0;32mdef\u001b[0m \u001b[0msolution\u001b[0m\u001b[0;34m(\u001b[0m\u001b[0mA\u001b[0m\u001b[0;34m,\u001b[0m \u001b[0mK\u001b[0m\u001b[0;34m)\u001b[0m\u001b[0;34m:\u001b[0m\u001b[0;34m\u001b[0m\u001b[0;34m\u001b[0m\u001b[0m\n\u001b[1;32m      4\u001b[0m     \u001b[0;31m# dummy solution\u001b[0m\u001b[0;34m\u001b[0m\u001b[0;34m\u001b[0m\u001b[0;34m\u001b[0m\u001b[0m\n\u001b[0;32m----> 5\u001b[0;31m     \u001b[0meven_list\u001b[0m \u001b[0;34m=\u001b[0m \u001b[0;34m[\u001b[0m\u001b[0msum\u001b[0m\u001b[0;34m(\u001b[0m\u001b[0mx\u001b[0m\u001b[0;34m)\u001b[0m \u001b[0;32mfor\u001b[0m \u001b[0mx\u001b[0m \u001b[0;32min\u001b[0m \u001b[0mcombinations\u001b[0m\u001b[0;34m(\u001b[0m\u001b[0mA\u001b[0m\u001b[0;34m,\u001b[0m \u001b[0mK\u001b[0m\u001b[0;34m)\u001b[0m \u001b[0;32mif\u001b[0m \u001b[0msum\u001b[0m\u001b[0;34m(\u001b[0m\u001b[0mx\u001b[0m\u001b[0;34m)\u001b[0m\u001b[0;34m%\u001b[0m\u001b[0;36m2\u001b[0m\u001b[0;34m==\u001b[0m\u001b[0;36m0\u001b[0m\u001b[0;34m]\u001b[0m\u001b[0;34m\u001b[0m\u001b[0;34m\u001b[0m\u001b[0m\n\u001b[0m\u001b[1;32m      6\u001b[0m \u001b[0;34m\u001b[0m\u001b[0m\n\u001b[1;32m      7\u001b[0m     \u001b[0;32mif\u001b[0m \u001b[0meven_list\u001b[0m \u001b[0;34m==\u001b[0m \u001b[0;34m[\u001b[0m\u001b[0;34m]\u001b[0m\u001b[0;34m:\u001b[0m\u001b[0;34m\u001b[0m\u001b[0;34m\u001b[0m\u001b[0m\n",
      "\u001b[0;32m<ipython-input-76-46f8964b0130>\u001b[0m in \u001b[0;36m<listcomp>\u001b[0;34m(.0)\u001b[0m\n\u001b[1;32m      3\u001b[0m \u001b[0;32mdef\u001b[0m \u001b[0msolution\u001b[0m\u001b[0;34m(\u001b[0m\u001b[0mA\u001b[0m\u001b[0;34m,\u001b[0m \u001b[0mK\u001b[0m\u001b[0;34m)\u001b[0m\u001b[0;34m:\u001b[0m\u001b[0;34m\u001b[0m\u001b[0;34m\u001b[0m\u001b[0m\n\u001b[1;32m      4\u001b[0m     \u001b[0;31m# dummy solution\u001b[0m\u001b[0;34m\u001b[0m\u001b[0;34m\u001b[0m\u001b[0;34m\u001b[0m\u001b[0m\n\u001b[0;32m----> 5\u001b[0;31m     \u001b[0meven_list\u001b[0m \u001b[0;34m=\u001b[0m \u001b[0;34m[\u001b[0m\u001b[0msum\u001b[0m\u001b[0;34m(\u001b[0m\u001b[0mx\u001b[0m\u001b[0;34m)\u001b[0m \u001b[0;32mfor\u001b[0m \u001b[0mx\u001b[0m \u001b[0;32min\u001b[0m \u001b[0mcombinations\u001b[0m\u001b[0;34m(\u001b[0m\u001b[0mA\u001b[0m\u001b[0;34m,\u001b[0m \u001b[0mK\u001b[0m\u001b[0;34m)\u001b[0m \u001b[0;32mif\u001b[0m \u001b[0msum\u001b[0m\u001b[0;34m(\u001b[0m\u001b[0mx\u001b[0m\u001b[0;34m)\u001b[0m\u001b[0;34m%\u001b[0m\u001b[0;36m2\u001b[0m\u001b[0;34m==\u001b[0m\u001b[0;36m0\u001b[0m\u001b[0;34m]\u001b[0m\u001b[0;34m\u001b[0m\u001b[0;34m\u001b[0m\u001b[0m\n\u001b[0m\u001b[1;32m      6\u001b[0m \u001b[0;34m\u001b[0m\u001b[0m\n\u001b[1;32m      7\u001b[0m     \u001b[0;32mif\u001b[0m \u001b[0meven_list\u001b[0m \u001b[0;34m==\u001b[0m \u001b[0;34m[\u001b[0m\u001b[0;34m]\u001b[0m\u001b[0;34m:\u001b[0m\u001b[0;34m\u001b[0m\u001b[0;34m\u001b[0m\u001b[0m\n",
      "\u001b[0;31mKeyboardInterrupt\u001b[0m: "
     ]
    }
   ],
   "source": [
    "solution(A, K)"
   ]
  }
 ],
 "metadata": {
  "kernelspec": {
   "display_name": "Python 3",
   "language": "python",
   "name": "python3"
  },
  "language_info": {
   "codemirror_mode": {
    "name": "ipython",
    "version": 3
   },
   "file_extension": ".py",
   "mimetype": "text/x-python",
   "name": "python",
   "nbconvert_exporter": "python",
   "pygments_lexer": "ipython3",
   "version": "3.7.5"
  }
 },
 "nbformat": 4,
 "nbformat_minor": 4
}
