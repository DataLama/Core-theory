{
 "cells": [
  {
   "cell_type": "code",
   "execution_count": 5,
   "metadata": {},
   "outputs": [],
   "source": [
    "begin = 'hit'\n",
    "target = 'cog'\n",
    "key_list = ['hot', 'dot', 'dog', 'lot', 'log', 'cog']"
   ]
  },
  {
   "cell_type": "code",
   "execution_count": 6,
   "metadata": {},
   "outputs": [],
   "source": [
    "key_list.append(begin)"
   ]
  },
  {
   "cell_type": "code",
   "execution_count": 7,
   "metadata": {},
   "outputs": [],
   "source": [
    "graph = {k:[] for k in key_list}\n",
    "visited = {k:False for k in key_list}"
   ]
  },
  {
   "cell_type": "code",
   "execution_count": 8,
   "metadata": {},
   "outputs": [],
   "source": [
    "for i, w1 in enumerate(key_list):\n",
    "    for w2 in key_list[i+1:]:\n",
    "        if sum([1 if x == y else 0 for x, y in zip(w1, w2)]) == (len(w1) - 1):\n",
    "            graph[w1].append(w2)\n",
    "            graph[w2].append(w1)\n",
    "    "
   ]
  },
  {
   "cell_type": "code",
   "execution_count": 9,
   "metadata": {},
   "outputs": [
    {
     "data": {
      "text/plain": [
       "{'hot': ['dot', 'lot', 'hit'],\n",
       " 'dot': ['hot', 'dog', 'lot'],\n",
       " 'dog': ['dot', 'log', 'cog'],\n",
       " 'lot': ['hot', 'dot', 'log'],\n",
       " 'log': ['dog', 'lot', 'cog'],\n",
       " 'cog': ['dog', 'log'],\n",
       " 'hit': ['hot']}"
      ]
     },
     "execution_count": 9,
     "metadata": {},
     "output_type": "execute_result"
    }
   ],
   "source": [
    "graph"
   ]
  },
  {
   "cell_type": "code",
   "execution_count": 6,
   "metadata": {},
   "outputs": [],
   "source": [
    "from collections import deque\n",
    "counter = 0\n",
    "def bfs(graph, visited, begin, target, counter):\n",
    "    queue = deque([begin])\n",
    "    visited[begin] = True\n",
    "    \n",
    "    while queue:\n",
    "        v = queue.popleft()\n",
    "        print(v, end=' ')\n",
    "        print(counter)\n",
    "        \n",
    "        for w in graph[v]:\n",
    "            if not visited[w]:\n",
    "                queue.append(w)\n",
    "                visited[w] = True\n",
    "                counter += 1\n",
    "                \n",
    "                "
   ]
  },
  {
   "cell_type": "code",
   "execution_count": 7,
   "metadata": {},
   "outputs": [
    {
     "name": "stdout",
     "output_type": "stream",
     "text": [
      "hit 0\n",
      "hot 1\n",
      "dot 3\n",
      "lot 4\n",
      "dog 5\n",
      "log 6\n",
      "cog 6\n"
     ]
    }
   ],
   "source": [
    "bfs(graph, visited, begin, target, counter)"
   ]
  },
  {
   "cell_type": "code",
   "execution_count": null,
   "metadata": {},
   "outputs": [],
   "source": []
  },
  {
   "cell_type": "code",
   "execution_count": null,
   "metadata": {},
   "outputs": [],
   "source": []
  },
  {
   "cell_type": "code",
   "execution_count": 25,
   "metadata": {},
   "outputs": [],
   "source": [
    "counter = 0\n",
    "visited = {k:False for k in key_list}"
   ]
  },
  {
   "cell_type": "code",
   "execution_count": 26,
   "metadata": {},
   "outputs": [],
   "source": [
    "def character_changer(graph, visited, begin, target, counter):\n",
    "    # 종료 조건\n",
    "    if begin == target:\n",
    "        print('끝')\n",
    "        print(counter)\n",
    "        return counter\n",
    "    \n",
    "    print(begin)\n",
    "    visited[begin] = True\n",
    "    counter += 1\n",
    "    \n",
    "    # changer\n",
    "    for w in graph[begin]:\n",
    "        if not visited[w]:\n",
    "            character_changer(graph, visited, w, target, counter)\n",
    "            \n",
    "    return 0"
   ]
  },
  {
   "cell_type": "code",
   "execution_count": 27,
   "metadata": {},
   "outputs": [
    {
     "name": "stdout",
     "output_type": "stream",
     "text": [
      "hit\n",
      "hot\n",
      "dot\n",
      "dog\n",
      "log\n",
      "lot\n",
      "끝\n",
      "5\n",
      "끝\n",
      "4\n"
     ]
    }
   ],
   "source": [
    "tmp = character_changer(graph,visited,begin,target, counter)"
   ]
  },
  {
   "cell_type": "code",
   "execution_count": 21,
   "metadata": {},
   "outputs": [
    {
     "name": "stdout",
     "output_type": "stream",
     "text": [
      "0\n"
     ]
    }
   ],
   "source": [
    "print(tmp)"
   ]
  },
  {
   "cell_type": "code",
   "execution_count": 38,
   "metadata": {},
   "outputs": [],
   "source": [
    "tmp"
   ]
  },
  {
   "cell_type": "code",
   "execution_count": null,
   "metadata": {},
   "outputs": [],
   "source": [
    "love u :) me too"
   ]
  },
  {
   "cell_type": "code",
   "execution_count": null,
   "metadata": {},
   "outputs": [],
   "source": []
  },
  {
   "cell_type": "code",
   "execution_count": 32,
   "metadata": {},
   "outputs": [],
   "source": [
    "tmp"
   ]
  },
  {
   "cell_type": "code",
   "execution_count": null,
   "metadata": {},
   "outputs": [],
   "source": []
  },
  {
   "cell_type": "code",
   "execution_count": 25,
   "metadata": {},
   "outputs": [
    {
     "data": {
      "text/plain": [
       "0"
      ]
     },
     "execution_count": 25,
     "metadata": {},
     "output_type": "execute_result"
    }
   ],
   "source": [
    "tmp"
   ]
  },
  {
   "cell_type": "code",
   "execution_count": 20,
   "metadata": {},
   "outputs": [
    {
     "data": {
      "text/plain": [
       "0"
      ]
     },
     "execution_count": 20,
     "metadata": {},
     "output_type": "execute_result"
    }
   ],
   "source": []
  },
  {
   "cell_type": "code",
   "execution_count": 8,
   "metadata": {},
   "outputs": [
    {
     "data": {
      "text/plain": [
       "'hit'"
      ]
     },
     "execution_count": 8,
     "metadata": {},
     "output_type": "execute_result"
    }
   ],
   "source": [
    "begin"
   ]
  },
  {
   "cell_type": "code",
   "execution_count": 9,
   "metadata": {},
   "outputs": [
    {
     "data": {
      "text/plain": [
       "{'hot': True,\n",
       " 'dot': True,\n",
       " 'dog': True,\n",
       " 'lot': True,\n",
       " 'log': True,\n",
       " 'cog': True,\n",
       " 'hit': True}"
      ]
     },
     "execution_count": 9,
     "metadata": {},
     "output_type": "execute_result"
    }
   ],
   "source": [
    "visited"
   ]
  },
  {
   "cell_type": "code",
   "execution_count": 10,
   "metadata": {},
   "outputs": [
    {
     "data": {
      "text/plain": [
       "{'hot': ['dot', 'lot', 'hit'],\n",
       " 'dot': ['hot', 'dog', 'lot'],\n",
       " 'dog': ['dot', 'log', 'cog'],\n",
       " 'lot': ['hot', 'dot', 'log'],\n",
       " 'log': ['dog', 'lot', 'cog'],\n",
       " 'cog': ['dog', 'log'],\n",
       " 'hit': ['hot']}"
      ]
     },
     "execution_count": 10,
     "metadata": {},
     "output_type": "execute_result"
    }
   ],
   "source": [
    "graph"
   ]
  },
  {
   "cell_type": "code",
   "execution_count": null,
   "metadata": {},
   "outputs": [],
   "source": [
    "    if not checker[begin]:\n",
    "        checker[begin] = True\n",
    "        \n",
    "        for word in graph[begin]:\n",
    "            return \n",
    "        \n",
    "        \n",
    "    else:\n",
    "        return 0 "
   ]
  }
 ],
 "metadata": {
  "kernelspec": {
   "display_name": "Python 3",
   "language": "python",
   "name": "python3"
  },
  "language_info": {
   "codemirror_mode": {
    "name": "ipython",
    "version": 3
   },
   "file_extension": ".py",
   "mimetype": "text/x-python",
   "name": "python",
   "nbconvert_exporter": "python",
   "pygments_lexer": "ipython3",
   "version": "3.7.5"
  }
 },
 "nbformat": 4,
 "nbformat_minor": 4
}
