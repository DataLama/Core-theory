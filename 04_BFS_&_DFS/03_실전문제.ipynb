{
 "cells": [
  {
   "cell_type": "markdown",
   "metadata": {},
   "source": [
    "# DFS BFS 실전 문제"
   ]
  },
  {
   "cell_type": "markdown",
   "metadata": {},
   "source": [
    "### 음료수 얼려먹기\n",
    "- DFS로 0으로 연결된 노드들을 탐색하자."
   ]
  },
  {
   "cell_type": "markdown",
   "metadata": {},
   "source": [
    "**test case 생성**"
   ]
  },
  {
   "cell_type": "code",
   "execution_count": 1,
   "metadata": {},
   "outputs": [
    {
     "name": "stdin",
     "output_type": "stream",
     "text": [
      " 3 4\n"
     ]
    }
   ],
   "source": [
    "## test case 만들기\n",
    "import random\n",
    "\n",
    "# random하게 만들기\n",
    "n, m = map(int, input().split()) #e.g) 4 5\n",
    "matrix = [[0]*m for _ in range(n)]\n",
    "for i in range(n):\n",
    "    for j in range(m):\n",
    "        matrix[i][j] = random.randint(0,1)\n",
    "\n",
    "\n",
    "test_case = '\\n'.join([''.join(map(str, x)) for x in matrix])\n",
    "test_case = f\"{n} {m}\\n{test_case}\""
   ]
  },
  {
   "cell_type": "code",
   "execution_count": 2,
   "metadata": {},
   "outputs": [
    {
     "name": "stdout",
     "output_type": "stream",
     "text": [
      "3 4\n",
      "0111\n",
      "0100\n",
      "0101\n"
     ]
    }
   ],
   "source": [
    "print(test_case)"
   ]
  },
  {
   "cell_type": "markdown",
   "metadata": {},
   "source": [
    "**문제 풀이**"
   ]
  },
  {
   "cell_type": "code",
   "execution_count": 3,
   "metadata": {},
   "outputs": [],
   "source": [
    "# input\n",
    "test_case = test_case.rstrip().split('\\n')\n",
    "\n",
    "n, m = map(int, test_case[0].split())\n",
    "graph = []\n",
    "for case in test_case[1:]:\n",
    "    graph.append(list(map(int, case)))"
   ]
  },
  {
   "cell_type": "code",
   "execution_count": 4,
   "metadata": {},
   "outputs": [],
   "source": [
    "def count_subgraph(x, y):\n",
    "    \"\"\"\n",
    "    input으로 특정 지점을 받는다.\n",
    "    0에서 시작해서 모두 순회 True 1은 아니므로 False\n",
    "    \"\"\"\n",
    "    if x <=-1 or x >=n or y <=-1 or y >=m: #범위를 벗어날 경우 dfs로 구현하기 때문...\n",
    "        return False\n",
    "    \n",
    "    if graph[x][y] == 0:\n",
    "        graph[x][y] = 1\n",
    "        count_subgraph(x-1, y)\n",
    "        count_subgraph(x+1, y)\n",
    "        count_subgraph(x, y-1)\n",
    "        count_subgraph(x, y+1)\n",
    "        return True\n",
    "        \n",
    "    return False # graph[x][y] == 1일 경우\n",
    "\n",
    "result = 0\n",
    "for i in range(n):\n",
    "    for j in range(m):\n",
    "        if count_subgraph(i,j) == True:\n",
    "            result += 1"
   ]
  },
  {
   "cell_type": "code",
   "execution_count": 5,
   "metadata": {},
   "outputs": [
    {
     "name": "stdout",
     "output_type": "stream",
     "text": [
      "2\n"
     ]
    }
   ],
   "source": [
    "print(result)"
   ]
  },
  {
   "cell_type": "markdown",
   "metadata": {},
   "source": [
    "---"
   ]
  },
  {
   "cell_type": "markdown",
   "metadata": {},
   "source": [
    "### 미로탈출\n",
    "- N X M 직사각형 미로\n",
    "- 동빈의 위치 $(1, 1)$\n",
    "- 출구는 $(N, M)$ \n",
    "- 괴물은 0 없는 부분은 1로 표시됨.\n",
    "- 동빈이가 움직여야될 최소 이동칸의 갯수 시작과 마지막칸 포함하여 계산됨."
   ]
  },
  {
   "cell_type": "markdown",
   "metadata": {},
   "source": [
    "**문제 풀이**"
   ]
  },
  {
   "cell_type": "code",
   "execution_count": 38,
   "metadata": {},
   "outputs": [],
   "source": [
    "data = \"\"\"5 6\n",
    "101010\n",
    "111111\n",
    "000001\n",
    "111111\n",
    "111111\n",
    "\"\"\""
   ]
  },
  {
   "cell_type": "code",
   "execution_count": 39,
   "metadata": {},
   "outputs": [
    {
     "name": "stdout",
     "output_type": "stream",
     "text": [
      "5 6\n"
     ]
    }
   ],
   "source": [
    "data = data.rstrip().split('\\n')\n",
    "n, m = map(int, data[0].split())\n",
    "graph = []\n",
    "for case in data[1:]:\n",
    "    graph.append(list(map(int, case)))\n",
    "print(n, m)"
   ]
  },
  {
   "cell_type": "code",
   "execution_count": 40,
   "metadata": {},
   "outputs": [
    {
     "data": {
      "text/plain": [
       "[[1, 0, 1, 0, 1, 0],\n",
       " [1, 1, 1, 1, 1, 1],\n",
       " [0, 0, 0, 0, 0, 1],\n",
       " [1, 1, 1, 1, 1, 1],\n",
       " [1, 1, 1, 1, 1, 1]]"
      ]
     },
     "execution_count": 40,
     "metadata": {},
     "output_type": "execute_result"
    }
   ],
   "source": [
    "graph"
   ]
  },
  {
   "cell_type": "code",
   "execution_count": 41,
   "metadata": {},
   "outputs": [],
   "source": [
    "from collections import deque"
   ]
  },
  {
   "cell_type": "code",
   "execution_count": 42,
   "metadata": {},
   "outputs": [],
   "source": [
    "# 좌, 우, 하 상\n",
    "dx = [-1, 1, 0, 0]\n",
    "dy = [0, 0, -1, 1]"
   ]
  },
  {
   "cell_type": "code",
   "execution_count": 43,
   "metadata": {},
   "outputs": [],
   "source": [
    "# bfs 소스코드 구현\n",
    "def bfs(x, y):\n",
    "    queue = deque()\n",
    "    queue.append((x,y))\n",
    "    \n",
    "    while queue: # 큐가 빌 때까지 반복\n",
    "        x, y = queue.popleft()\n",
    "        # 현위치에서 4방향 탐색\n",
    "        for x_, y_ in zip(dx, dy):\n",
    "            nx = x + x_\n",
    "            ny = y + y_\n",
    "            # 미로 공간 벗어난 경우\n",
    "            if nx<=-1 or nx>=n or ny<=-1 or ny >=m:\n",
    "                continue\n",
    "            # 벽인 경우\n",
    "            if graph[nx][ny] == 0:\n",
    "                continue\n",
    "            # 해당 노드를 처음 방문하는 경우에만 최단거리 기록\n",
    "            # 기존의 것에 +1하므로... 되돌아가지 않음.\n",
    "            if graph[nx][ny] == 1:\n",
    "                print(nx, ny)\n",
    "                graph[nx][ny] = graph[x][y] + 1  #전에서 + 1해서 기록하자.\n",
    "                queue.append((nx,ny))\n",
    "    return graph[n-1][m-1]"
   ]
  },
  {
   "cell_type": "code",
   "execution_count": 44,
   "metadata": {},
   "outputs": [
    {
     "name": "stdout",
     "output_type": "stream",
     "text": [
      "1 0\n",
      "0 0\n",
      "1 1\n",
      "1 2\n",
      "0 2\n",
      "1 3\n",
      "1 4\n",
      "0 4\n",
      "1 5\n",
      "2 5\n",
      "3 5\n",
      "4 5\n",
      "3 4\n",
      "4 4\n",
      "3 3\n",
      "4 3\n",
      "3 2\n",
      "4 2\n",
      "3 1\n",
      "4 1\n",
      "3 0\n",
      "4 0\n"
     ]
    },
    {
     "data": {
      "text/plain": [
       "10"
      ]
     },
     "execution_count": 44,
     "metadata": {},
     "output_type": "execute_result"
    }
   ],
   "source": [
    "bfs(0, 0)"
   ]
  },
  {
   "cell_type": "code",
   "execution_count": null,
   "metadata": {},
   "outputs": [],
   "source": [
    "for i in range(n):\n",
    "    for j in range(m):\n",
    "        "
   ]
  },
  {
   "cell_type": "code",
   "execution_count": null,
   "metadata": {},
   "outputs": [],
   "source": [
    "queue = deque(1)"
   ]
  },
  {
   "cell_type": "code",
   "execution_count": null,
   "metadata": {},
   "outputs": [],
   "source": []
  },
  {
   "cell_type": "code",
   "execution_count": null,
   "metadata": {},
   "outputs": [],
   "source": [
    "# input\n",
    "test_case = test_case.rstrip().split('\\n')\n",
    "\n",
    "n, m = map(int, test_case[0].split())\n",
    "graph = []\n",
    "for case in test_case[1:]:\n",
    "    graph.append(list(map(int, case)))"
   ]
  },
  {
   "cell_type": "code",
   "execution_count": null,
   "metadata": {},
   "outputs": [],
   "source": []
  },
  {
   "cell_type": "code",
   "execution_count": 25,
   "metadata": {},
   "outputs": [],
   "source": [
    "def bfs(x, y):\n",
    "    queue = deque()\n",
    "    queue.append((x,y))\n",
    "    distance = 0\n",
    "    # bfs는 queue가 종료할때까지 진행.\n",
    "    while queue:\n",
    "        x, y = queue.popleft()\n",
    "        distance += graph[x][y]\n",
    "        # 4 방향 탐색\n",
    "        for x_, y_ in zip(dx, dy):\n",
    "            tmp_x = x + x_\n",
    "            tmp_y = x + y_\n",
    "            # 기준 범위 밖\n",
    "            if tmp_x<=-1 or tmp_x>=n or tmp_y<=-1 or tmp_y >=m:\n",
    "                continue\n",
    "            \n",
    "            # 큐에 추가하기\n",
    "            if graph[tmp_x][tmp_y] == 1:\n",
    "                queue.append((tmp_x, tmp_y))\n",
    "            \n",
    "    return distance"
   ]
  }
 ],
 "metadata": {
  "kernelspec": {
   "display_name": "Python 3",
   "language": "python",
   "name": "python3"
  },
  "language_info": {
   "codemirror_mode": {
    "name": "ipython",
    "version": 3
   },
   "file_extension": ".py",
   "mimetype": "text/x-python",
   "name": "python",
   "nbconvert_exporter": "python",
   "pygments_lexer": "ipython3",
   "version": "3.7.5"
  }
 },
 "nbformat": 4,
 "nbformat_minor": 4
}
