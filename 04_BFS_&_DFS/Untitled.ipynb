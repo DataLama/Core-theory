{
 "cells": [
  {
   "cell_type": "code",
   "execution_count": 13,
   "metadata": {},
   "outputs": [],
   "source": [
    "from itertools import product"
   ]
  },
  {
   "cell_type": "code",
   "execution_count": 6,
   "metadata": {},
   "outputs": [],
   "source": [
    "test= [1] * 5  + [-1] * 5"
   ]
  },
  {
   "cell_type": "code",
   "execution_count": 19,
   "metadata": {},
   "outputs": [
    {
     "name": "stdout",
     "output_type": "stream",
     "text": [
      "(-1, 1, -1, 1, -1, 1, -1, 1, -1, 1)\n"
     ]
    }
   ],
   "source": [
    "for i, sample in enumerate(product([-1], [1], repeat=5)):\n",
    "    print(sample)"
   ]
  },
  {
   "cell_type": "code",
   "execution_count": 20,
   "metadata": {},
   "outputs": [],
   "source": [
    "my_test  = [1, 1, 1, 1, 1]"
   ]
  },
  {
   "cell_type": "code",
   "execution_count": 21,
   "metadata": {},
   "outputs": [
    {
     "data": {
      "text/plain": [
       "[-1, -1, -1, -1, -1]"
      ]
     },
     "execution_count": 21,
     "metadata": {},
     "output_type": "execute_result"
    }
   ],
   "source": [
    "[-1 * x for x in my_test]"
   ]
  },
  {
   "cell_type": "code",
   "execution_count": null,
   "metadata": {},
   "outputs": [],
   "source": []
  },
  {
   "cell_type": "code",
   "execution_count": 22,
   "metadata": {},
   "outputs": [],
   "source": [
    "from itertools import product\n",
    "def solution(numbers, target):\n",
    "    l = [(x, -x) for x in numbers]\n",
    "    s = list(map(sum, product(*l)))\n",
    "    return s.count(target)"
   ]
  },
  {
   "cell_type": "code",
   "execution_count": 26,
   "metadata": {},
   "outputs": [
    {
     "data": {
      "text/plain": [
       "[(1, -1), (1, -1), (1, -1), (1, -1), (1, -1)]"
      ]
     },
     "execution_count": 26,
     "metadata": {},
     "output_type": "execute_result"
    }
   ],
   "source": [
    "[(x, -x) for x in numbers]"
   ]
  },
  {
   "cell_type": "code",
   "execution_count": 28,
   "metadata": {},
   "outputs": [
    {
     "data": {
      "text/plain": [
       "[(1, 1, 1, 1, 1),\n",
       " (1, 1, 1, 1, -1),\n",
       " (1, 1, 1, -1, 1),\n",
       " (1, 1, 1, -1, -1),\n",
       " (1, 1, -1, 1, 1),\n",
       " (1, 1, -1, 1, -1),\n",
       " (1, 1, -1, -1, 1),\n",
       " (1, 1, -1, -1, -1),\n",
       " (1, -1, 1, 1, 1),\n",
       " (1, -1, 1, 1, -1),\n",
       " (1, -1, 1, -1, 1),\n",
       " (1, -1, 1, -1, -1),\n",
       " (1, -1, -1, 1, 1),\n",
       " (1, -1, -1, 1, -1),\n",
       " (1, -1, -1, -1, 1),\n",
       " (1, -1, -1, -1, -1),\n",
       " (-1, 1, 1, 1, 1),\n",
       " (-1, 1, 1, 1, -1),\n",
       " (-1, 1, 1, -1, 1),\n",
       " (-1, 1, 1, -1, -1),\n",
       " (-1, 1, -1, 1, 1),\n",
       " (-1, 1, -1, 1, -1),\n",
       " (-1, 1, -1, -1, 1),\n",
       " (-1, 1, -1, -1, -1),\n",
       " (-1, -1, 1, 1, 1),\n",
       " (-1, -1, 1, 1, -1),\n",
       " (-1, -1, 1, -1, 1),\n",
       " (-1, -1, 1, -1, -1),\n",
       " (-1, -1, -1, 1, 1),\n",
       " (-1, -1, -1, 1, -1),\n",
       " (-1, -1, -1, -1, 1),\n",
       " (-1, -1, -1, -1, -1)]"
      ]
     },
     "execution_count": 28,
     "metadata": {},
     "output_type": "execute_result"
    }
   ],
   "source": [
    "list(product(*[(x, -x) for x in numbers]))"
   ]
  },
  {
   "cell_type": "code",
   "execution_count": 25,
   "metadata": {},
   "outputs": [
    {
     "data": {
      "text/plain": [
       "0"
      ]
     },
     "execution_count": 25,
     "metadata": {},
     "output_type": "execute_result"
    }
   ],
   "source": [
    "numbers = [1, 1, 1, 1, 1]\n",
    "solution(numbers, 4)"
   ]
  }
 ],
 "metadata": {
  "kernelspec": {
   "display_name": "Python 3",
   "language": "python",
   "name": "python3"
  },
  "language_info": {
   "codemirror_mode": {
    "name": "ipython",
    "version": 3
   },
   "file_extension": ".py",
   "mimetype": "text/x-python",
   "name": "python",
   "nbconvert_exporter": "python",
   "pygments_lexer": "ipython3",
   "version": "3.7.5"
  }
 },
 "nbformat": 4,
 "nbformat_minor": 4
}
