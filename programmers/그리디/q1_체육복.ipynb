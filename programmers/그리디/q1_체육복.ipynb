{
 "cells": [
  {
   "cell_type": "markdown",
   "metadata": {},
   "source": [
    "# 체육복\n",
    "https://programmers.co.kr/learn/courses/30/lessons/42862"
   ]
  },
  {
   "cell_type": "markdown",
   "metadata": {},
   "source": [
    "### 아이디어\n",
    "- 1번 자기 자신이 안갖고 온경우 제거\n",
    "- 2번 reserve를 기준으로 lost들에게 하나씩 주면서 lost들을 제거함."
   ]
  },
  {
   "cell_type": "code",
   "execution_count": null,
   "metadata": {},
   "outputs": [],
   "source": [
    "def solution(n, lost, reserve):\n",
    "    org_lost, org_reserve = set(lost), set(reserve)\n",
    "    lost = [l for l in lost if l not in org_reserve]\n",
    "    reserve = [r for r in reserve if r not in org_lost]\n",
    "    \n",
    "    for r in reserve:\n",
    "        if (r-1) in lost:\n",
    "            lost.remove(r-1)\n",
    "        elif (r+1) in lost:\n",
    "            lost.remove(r+1)\n",
    "        \n",
    "            \n",
    "    answer = n - len(lost)\n",
    "            \n",
    "    return answer"
   ]
  },
  {
   "cell_type": "markdown",
   "metadata": {},
   "source": [
    "---"
   ]
  },
  {
   "cell_type": "markdown",
   "metadata": {},
   "source": [
    "### 결과\n",
    "- 통과"
   ]
  }
 ],
 "metadata": {
  "kernelspec": {
   "display_name": "Python 3",
   "language": "python",
   "name": "python3"
  },
  "language_info": {
   "codemirror_mode": {
    "name": "ipython",
    "version": 3
   },
   "file_extension": ".py",
   "mimetype": "text/x-python",
   "name": "python",
   "nbconvert_exporter": "python",
   "pygments_lexer": "ipython3",
   "version": "3.7.5"
  }
 },
 "nbformat": 4,
 "nbformat_minor": 4
}
