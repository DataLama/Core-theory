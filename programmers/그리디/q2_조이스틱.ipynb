{
 "cells": [
  {
   "cell_type": "markdown",
   "metadata": {},
   "source": [
    "# 2. 조이스틱"
   ]
  },
  {
   "cell_type": "markdown",
   "metadata": {},
   "source": [
    "https://programmers.co.kr/learn/courses/30/lessons/42860"
   ]
  },
  {
   "cell_type": "markdown",
   "metadata": {},
   "source": [
    "### 아이디어\n",
    "- 좌, 우 파악\n",
    "- 위, 아래 파악"
   ]
  },
  {
   "cell_type": "code",
   "execution_count": null,
   "metadata": {},
   "outputs": [],
   "source": [
    "def solution(name):\n",
    "    movement = 0\n",
    "    # 좌, 우...\n",
    "    right = name\n",
    "    left = name[0] + ''.join(reversed(name[1:]))\n",
    "    f, b = 0, 0\n",
    "    for i, (r_c, l_c) in enumerate(zip(right, left)):\n",
    "        if r_c !='A':\n",
    "            r = i\n",
    "        if l_c !='A':\n",
    "            l = i\n",
    "    movement += r if r < l else l\n",
    "    \n",
    "    # 위, 아래...\n",
    "    criteria = (ord('A') + ord('Z')) / 2\n",
    "    up_down = [(ord(c) - ord('A')) if ord(c) < criteria else (ord('Z') - ord(c) + 1) for c in name if c != 'A']\n",
    "    movement += sum(up_down)\n",
    "\n",
    "    return movement"
   ]
  },
  {
   "cell_type": "markdown",
   "metadata": {},
   "source": [
    "---"
   ]
  },
  {
   "cell_type": "markdown",
   "metadata": {},
   "source": [
    "### 결과"
   ]
  },
  {
   "cell_type": "markdown",
   "metadata": {},
   "source": [
    "- 케이스 1개를 해결하지 못함.\n",
    "    - 반대로 방향전환 하는 것.\n",
    "    - 이건 모든 케이스에서 최적을 탐색해야됨.\n",
    "- bfs"
   ]
  }
 ],
 "metadata": {
  "kernelspec": {
   "display_name": "Python 3",
   "language": "python",
   "name": "python3"
  },
  "language_info": {
   "codemirror_mode": {
    "name": "ipython",
    "version": 3
   },
   "file_extension": ".py",
   "mimetype": "text/x-python",
   "name": "python",
   "nbconvert_exporter": "python",
   "pygments_lexer": "ipython3",
   "version": "3.7.5"
  }
 },
 "nbformat": 4,
 "nbformat_minor": 4
}
