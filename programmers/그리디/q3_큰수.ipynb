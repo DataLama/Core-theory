{
 "cells": [
  {
   "cell_type": "markdown",
   "metadata": {},
   "source": [
    "# 큰 수 만들기"
   ]
  },
  {
   "cell_type": "markdown",
   "metadata": {},
   "source": [
    "https://programmers.co.kr/learn/courses/30/lessons/42883"
   ]
  },
  {
   "cell_type": "markdown",
   "metadata": {},
   "source": [
    "### 아이디어"
   ]
  },
  {
   "cell_type": "code",
   "execution_count": null,
   "metadata": {},
   "outputs": [],
   "source": [
    "def solution(number, k):\n",
    "    s = []\n",
    "    cnt = 0 \n",
    "    for i in number:\n",
    "        if cnt == k:\n",
    "            s.append(i)\n",
    "        else:\n",
    "            if not s:\n",
    "                s.append(i)\n",
    "                print(s)\n",
    "            else:\n",
    "                while s:\n",
    "                    if cnt == k or i <= s[-1]:\n",
    "                        break\n",
    "                    if i > s[-1]:\n",
    "                        s.pop()\n",
    "                        cnt += 1\n",
    "                s.append(i)\n",
    "    while cnt != k:\n",
    "        s.pop()\n",
    "        cnt += 1\n",
    "    return ''.join(s)"
   ]
  },
  {
   "cell_type": "markdown",
   "metadata": {},
   "source": [
    "---"
   ]
  },
  {
   "cell_type": "markdown",
   "metadata": {},
   "source": [
    "### 결과"
   ]
  }
 ],
 "metadata": {
  "kernelspec": {
   "display_name": "Python 3",
   "language": "python",
   "name": "python3"
  },
  "language_info": {
   "codemirror_mode": {
    "name": "ipython",
    "version": 3
   },
   "file_extension": ".py",
   "mimetype": "text/x-python",
   "name": "python",
   "nbconvert_exporter": "python",
   "pygments_lexer": "ipython3",
   "version": "3.7.5"
  }
 },
 "nbformat": 4,
 "nbformat_minor": 4
}
